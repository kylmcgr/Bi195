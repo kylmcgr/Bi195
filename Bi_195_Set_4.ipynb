{
  "nbformat": 4,
  "nbformat_minor": 0,
  "metadata": {
    "colab": {
      "name": "Bi_195_Set_4.ipynb",
      "provenance": [],
      "collapsed_sections": []
    },
    "kernelspec": {
      "display_name": "Python 3",
      "language": "python",
      "name": "python3"
    },
    "language_info": {
      "codemirror_mode": {
        "name": "ipython",
        "version": 3
      },
      "file_extension": ".py",
      "mimetype": "text/x-python",
      "name": "python",
      "nbconvert_exporter": "python",
      "pygments_lexer": "ipython3",
      "version": "3.9.5"
    }
  },
  "cells": [
    {
      "cell_type": "code",
      "metadata": {
        "id": "w7GUows9It1j"
      },
      "source": [
        "import math\n",
        "import numpy as np\n",
        "import matplotlib.pyplot as plt"
      ],
      "execution_count": 77,
      "outputs": []
    },
    {
      "cell_type": "markdown",
      "metadata": {
        "id": "Evg18X52PkRq"
      },
      "source": [
        "#Problem 1\n",
        "{(at, 0.028), (she, 0.030), (that, 0.033), (be, 0.034), (it, 0.035), (was, 0.035), (a, 0.044), (had, 0.076), (he, 0.079), (to, 0.074), (in, 0.094), (of, 0.16), (the, 0.278)}\n",
        "\n",
        "{((of, the), 0.22), ((in, the), 0.186), ((he, had), 0.092), ((to, the), 0.09), ((of, a), 0.088), ((it, was), 0.07), ((to, be), 0.069), ((that, he), 0.067), ((she, had), 0.061), ((at, the), 0.057))}\n",
        "###(A)\n",
        "$H[P(X)]=-\\sum\\limits_x P(x)\\textrm{ log}_2P(x)$"
      ]
    },
    {
      "cell_type": "code",
      "metadata": {
        "id": "4ZcKK1R0uyl3",
        "colab": {
          "base_uri": "https://localhost:8080/"
        },
        "outputId": "8a950fd1-33c1-4e86-9727-f84171ef9cc5"
      },
      "source": [
        "single_word_freqs = [0.028, 0.030, 0.033, 0.034, 0.035, 0.035, 0.044, 0.076, 0.079, 0.074, 0.094, 0.16, 0.278]\n",
        "print(sum(single_word_freqs))\n",
        "entropy = -sum([x*math.log2(x) for x in single_word_freqs])\n",
        "print(entropy)"
      ],
      "execution_count": 78,
      "outputs": [
        {
          "output_type": "stream",
          "name": "stdout",
          "text": [
            "1.0\n",
            "3.2682218993876324\n"
          ]
        }
      ]
    },
    {
      "cell_type": "markdown",
      "metadata": {
        "id": "bJB0_QkrxSum"
      },
      "source": [
        "$H[P(X)] = 3.27 \\textrm{ bits}$\n",
        "\n",
        "$L(x, c) \\geq H[P(X)] = 3.27 \\textrm{ bits}$\n",
        "\n",
        "###(B)\n",
        "\n",
        "The most frequent element should be the shortest and least frequent the longest, so \"the\" should have the shortest encoding and \"at\" should have the longest encoding.\n",
        "\n",
        "###(C)"
      ]
    },
    {
      "cell_type": "code",
      "metadata": {
        "colab": {
          "base_uri": "https://localhost:8080/"
        },
        "id": "VD5C3omgzWYD",
        "outputId": "059a69a4-bf8b-4589-8720-85046f9a20b8"
      },
      "source": [
        "single_word_code_lengths = [math.ceil(-math.log2(x)) for x in single_word_freqs]\n",
        "print(single_word_code_lengths)"
      ],
      "execution_count": 79,
      "outputs": [
        {
          "output_type": "stream",
          "name": "stdout",
          "text": [
            "[6, 6, 5, 5, 5, 5, 5, 4, 4, 4, 4, 3, 2]\n"
          ]
        }
      ]
    },
    {
      "cell_type": "markdown",
      "metadata": {
        "id": "dQzghXE2cohW"
      },
      "source": [
        "Code lengths: (at, 6), (she, 6), (that, 5), (be, 5), (it, 5), (was, 5), (a, 5), (had, 4), (he, 4), (to, 4), (in, 4), (of, 3), (the, 2)\n",
        "\n",
        "###(D)\n",
        "\n",
        "$H_2 = H[P(X_2)]=-\\sum\\limits_{x_2} P(x_2)\\textrm{ log}_2P(x_2)$"
      ]
    },
    {
      "cell_type": "code",
      "metadata": {
        "id": "q9K3yO49H_yW",
        "colab": {
          "base_uri": "https://localhost:8080/"
        },
        "outputId": "eaa15803-14ec-47e9-d983-28f4e75104e2"
      },
      "source": [
        "word_pair_freqs = [0.22, 0.186, 0.092, 0.09, 0.088, 0.07, 0.069, 0.067, 0.061, 0.057]\n",
        "print(sum(word_pair_freqs))\n",
        "entropy2 = -sum([x2*math.log2(x2) for x2 in word_pair_freqs])\n",
        "print(entropy2)"
      ],
      "execution_count": 80,
      "outputs": [
        {
          "output_type": "stream",
          "name": "stdout",
          "text": [
            "0.9999999999999999\n",
            "3.147521464890332\n"
          ]
        }
      ]
    },
    {
      "cell_type": "markdown",
      "metadata": {
        "id": "bYsUurki1oOv"
      },
      "source": [
        "$H_2 = H[P(X_2)] = 3.15 \\textrm{ bits}$\n",
        "\n",
        "$L(x, c) \\geq H[P(X_2)] = 3.15 \\textrm{ bits}$\n",
        "\n",
        "###(E)\n",
        "$2H_1 = 2 * 3.27 \\textrm{ bits} = 6.54 \\textrm{ bits}$\n",
        "\n",
        "$H_2 = 3.15 \\textrm{ bits}$\n",
        "\n",
        "$H_2 < 2H_1$, so we should use the word pair code.\n",
        "\n",
        "The word pair encoding is on average $6.54 - 3.15 = 3.39 \\textrm{ bits}$ shorter per encoding because there are half the amount of encodings."
      ]
    },
    {
      "cell_type": "markdown",
      "metadata": {
        "id": "uW1vHthwQnQs"
      },
      "source": [
        "#Problem 2\n",
        "###(A)\n",
        "There are a total of 3 × 3 = 9 possible positions each able to be 0 or 1 for a total of $2^9 = 512$ possible input patterns.\n",
        "###(B)\n",
        "$P(x_1) = P(x_2) = P(x_3) = .3$, $x_j = 0.1/509$\n",
        "\n",
        "$H[P(X)]=-\\sum\\limits_x P(x)\\textrm{ log}_2P(x)$"
      ]
    },
    {
      "cell_type": "code",
      "metadata": {
        "colab": {
          "base_uri": "https://localhost:8080/"
        },
        "id": "pBKPR7MiSUzk",
        "outputId": "88e01c42-6d20-40f8-d1d3-92e43b14d10c"
      },
      "source": [
        "visual_input_freqs = [0.3,0.3,0.3] + [0.1/509]*509\n",
        "print(sum(visual_input_freqs))\n",
        "visual_entropy = -sum([x*math.log2(x) for x in visual_input_freqs])\n",
        "print(visual_entropy)"
      ],
      "execution_count": 81,
      "outputs": [
        {
          "output_type": "stream",
          "name": "stdout",
          "text": [
            "1.00000000000001\n",
            "2.794614028845932\n"
          ]
        }
      ]
    },
    {
      "cell_type": "markdown",
      "metadata": {
        "id": "hTBuXKlUTFs8"
      },
      "source": [
        "$H[P(X)] = 2.79 \\textrm{ bits}$\n",
        "###(C)\n",
        "$L(x, c) \\geq H[P(X)] = 2.79 \\textrm{ bits}$\n",
        "###(D)\n",
        "$l(x_i) = −\\lceil\\textrm{log }P(x_i)\\rceil$"
      ]
    },
    {
      "cell_type": "code",
      "metadata": {
        "colab": {
          "base_uri": "https://localhost:8080/"
        },
        "id": "LBGYcdiFTXib",
        "outputId": "dbaf2f30-5f41-4163-8217-388b0ab94b7a"
      },
      "source": [
        "visual_input_code_lengths = [math.ceil(-math.log2(x)) for x in visual_input_freqs]\n",
        "print(visual_input_code_lengths)\n",
        "# for i in range(len(visual_input_code_lengths)):\n",
        "#   print(\"x_\"+str(i+1)+\";\"+str(visual_input_freqs[i]))"
      ],
      "execution_count": 82,
      "outputs": [
        {
          "output_type": "stream",
          "name": "stdout",
          "text": [
            "[2, 2, 2, 13, 13, 13, 13, 13, 13, 13, 13, 13, 13, 13, 13, 13, 13, 13, 13, 13, 13, 13, 13, 13, 13, 13, 13, 13, 13, 13, 13, 13, 13, 13, 13, 13, 13, 13, 13, 13, 13, 13, 13, 13, 13, 13, 13, 13, 13, 13, 13, 13, 13, 13, 13, 13, 13, 13, 13, 13, 13, 13, 13, 13, 13, 13, 13, 13, 13, 13, 13, 13, 13, 13, 13, 13, 13, 13, 13, 13, 13, 13, 13, 13, 13, 13, 13, 13, 13, 13, 13, 13, 13, 13, 13, 13, 13, 13, 13, 13, 13, 13, 13, 13, 13, 13, 13, 13, 13, 13, 13, 13, 13, 13, 13, 13, 13, 13, 13, 13, 13, 13, 13, 13, 13, 13, 13, 13, 13, 13, 13, 13, 13, 13, 13, 13, 13, 13, 13, 13, 13, 13, 13, 13, 13, 13, 13, 13, 13, 13, 13, 13, 13, 13, 13, 13, 13, 13, 13, 13, 13, 13, 13, 13, 13, 13, 13, 13, 13, 13, 13, 13, 13, 13, 13, 13, 13, 13, 13, 13, 13, 13, 13, 13, 13, 13, 13, 13, 13, 13, 13, 13, 13, 13, 13, 13, 13, 13, 13, 13, 13, 13, 13, 13, 13, 13, 13, 13, 13, 13, 13, 13, 13, 13, 13, 13, 13, 13, 13, 13, 13, 13, 13, 13, 13, 13, 13, 13, 13, 13, 13, 13, 13, 13, 13, 13, 13, 13, 13, 13, 13, 13, 13, 13, 13, 13, 13, 13, 13, 13, 13, 13, 13, 13, 13, 13, 13, 13, 13, 13, 13, 13, 13, 13, 13, 13, 13, 13, 13, 13, 13, 13, 13, 13, 13, 13, 13, 13, 13, 13, 13, 13, 13, 13, 13, 13, 13, 13, 13, 13, 13, 13, 13, 13, 13, 13, 13, 13, 13, 13, 13, 13, 13, 13, 13, 13, 13, 13, 13, 13, 13, 13, 13, 13, 13, 13, 13, 13, 13, 13, 13, 13, 13, 13, 13, 13, 13, 13, 13, 13, 13, 13, 13, 13, 13, 13, 13, 13, 13, 13, 13, 13, 13, 13, 13, 13, 13, 13, 13, 13, 13, 13, 13, 13, 13, 13, 13, 13, 13, 13, 13, 13, 13, 13, 13, 13, 13, 13, 13, 13, 13, 13, 13, 13, 13, 13, 13, 13, 13, 13, 13, 13, 13, 13, 13, 13, 13, 13, 13, 13, 13, 13, 13, 13, 13, 13, 13, 13, 13, 13, 13, 13, 13, 13, 13, 13, 13, 13, 13, 13, 13, 13, 13, 13, 13, 13, 13, 13, 13, 13, 13, 13, 13, 13, 13, 13, 13, 13, 13, 13, 13, 13, 13, 13, 13, 13, 13, 13, 13, 13, 13, 13, 13, 13, 13, 13, 13, 13, 13, 13, 13, 13, 13, 13, 13, 13, 13, 13, 13, 13, 13, 13, 13, 13, 13, 13, 13, 13, 13, 13, 13, 13, 13, 13, 13, 13, 13, 13, 13, 13, 13, 13, 13, 13, 13, 13, 13, 13, 13, 13, 13, 13, 13, 13, 13, 13, 13, 13, 13, 13, 13, 13, 13, 13, 13, 13, 13, 13, 13, 13, 13, 13]\n"
          ]
        }
      ]
    },
    {
      "cell_type": "markdown",
      "metadata": {
        "id": "lnCsbI_9TWPQ"
      },
      "source": [
        "The first three inputs, $x_1, x_2, x_3$, of probability $0.3$ have code lengths of $2$, and the rest of the inputs have code lengths of $13$.\n",
        "###(E)\n",
        "Huffman Codes: $x_1=01, x_2=10, x_3=11,$ representitive code $x_j=00011011011$\n",
        "\n",
        "If neural codings utilize similar strategies, this implies that neurons may be able to very efficiently code sensory signals that they see commonly relative to other inputs."
      ]
    },
    {
      "cell_type": "markdown",
      "metadata": {
        "id": "xqsPKSfD03Ci"
      },
      "source": [
        "#Problem 3\n",
        "Binary symmetric channel with bit-flip probability $p$\n",
        "###(A)\n",
        "$I[X,Y]=\\sum\\limits_x\\sum\\limits_yP(X,Y)log\\frac{P(X,Y)}{P(X)P(Y)}$\n",
        "\n",
        "$P(X,Y) = P(X)P(Y|X)$\n",
        "\n",
        "|x|y|P(x)|P(y)|P(y\\|x)|P(x,y)|\n",
        "|-|-|----|----|------|----|\n",
        "|0|0|$\\frac{1}{2}$|$\\frac{1}{2}$|1-p|$\\frac{1-p}{2}$|\n",
        "|0|1|$\\frac{1}{2}$|$\\frac{1}{2}$|p|$\\frac{p}{2}$|\n",
        "|1|0|$\\frac{1}{2}$|$\\frac{1}{2}$|p|$\\frac{p}{2}$|\n",
        "|1|1|$\\frac{1}{2}$|$\\frac{1}{2}$|1-p|$\\frac{1-p}{2}$|\n",
        "\n",
        "$$\\begin{eqnarray}\n",
        "I[X,Y]&=&\\sum\\limits_x\\sum\\limits_yP(X,Y)log\\frac{P(X,Y)}{P(X)P(Y)} \\\\\n",
        "&=& \\frac{1-p}{2}log\\frac{\\frac{1-p}{2}}{\\frac{1}{2}*\\frac{1}{2}}+\\frac{p}{2}log\\frac{\\frac{p}{2}}{\\frac{1}{2}*\\frac{1}{2}}+\\frac{p}{2}log\\frac{\\frac{p}{2}}{\\frac{1}{2}*\\frac{1}{2}}+\\frac{1-p}{2}log\\frac{\\frac{1-p}{2}}{\\frac{1}{2}*\\frac{1}{2}} \\\\\n",
        "&=& \\frac{1-p}{2}log(2-2p)+\\frac{p}{2}log(2p)+\\frac{p}{2}log(2p)+\\frac{1-p}{2}log(2-2p) \\\\\n",
        "&=& (1-p)\\ log(2-2p)+p\\ log(2p)\n",
        "\\end{eqnarray}$$\n",
        "\n",
        "###(B)\n",
        "$P(Y|X) =$ product over the bits $x\\in X$ and their corresponding bits $y\\in Y$ of $P(y|x)$\n",
        "\n",
        "###(C)\n",
        "Given an observed output $Y$, we would calculated $P(Y|X)$ for all possible inputs $X$ and choose the binary word $X$ with the highest $P(Y|X)$.\n",
        "\n",
        "###(D)\n",
        "$p = .2,\\ N = 5$\n",
        "\n",
        "The probability that a code word will experience 0 or 1 bit flips is $P(0$ bits flips$)+P(1$ bit flip$)$.\n",
        "\n",
        "$P(0$ bits flips$)+P(1$ bit flip$)=(1-0.2)^5+5(1-0.2)^4(0.2)=0.73728$\n",
        "\n",
        "###(E)\n",
        "For a length of 5, to be able to have all single bit flips corrected, we must have no overlaps between any single bit flips of any input words. This means there must be 3 bits different between any two input words, so we can construct a 4 word code but not a 5 word code.\n",
        "\n",
        "$00000, 00111, 11100, 11011$\n",
        "\n",
        "#Problem 4\n",
        "###(A)\n",
        "$P(y) = 1/5$ for all $y$\n",
        "\n",
        "$H[P(Y)]=-\\sum\\limits_y P(y)\\textrm{ log}P(y)=-5\\frac{1}{5}log\\frac{1}{5}=log\\ 5$\n",
        "\n",
        "###(B)\n",
        "$P(z|y) = \\frac{(p_cy)^ze^{(−p_cy)}}{z!}$, where $p_c$ is the receptor counting efficiency\n",
        "\n",
        "$P(z,y)=P(y)P(z|y)=\\frac{1}{5}\\frac{(p_cy)^ze^{(−p_cy)}}{z!}$\n",
        "\n",
        "$P(z)=\\sum\\limits_{y\\in Y}P(z,y)=\\sum\\limits_{y\\in Y}\\frac{1}{5}\\frac{(p_cy)^ze^{(−p_cy)}}{z!}$\n",
        "\n",
        "###(C)/(D)\n"
      ]
    },
    {
      "cell_type": "code",
      "metadata": {
        "id": "K9wFxp-dY-Si"
      },
      "source": [
        "def Py(y):\n",
        "  return 1/5\n",
        "\n",
        "def poisson(z,y,pc):\n",
        "  return (pc*y)**z*math.exp(-pc*y)/math.factorial(z)\n",
        "\n",
        "def P(z,y,pc):\n",
        "  return Py(y)*poisson(z,y,pc)\n",
        "\n",
        "def Pz(z,Y,pc):\n",
        "  total = 0\n",
        "  for y in Y:\n",
        "    total += P(z,y,pc)\n",
        "  return total\n",
        "\n",
        "def mutual(Z,Y,pc):\n",
        "  total = 0\n",
        "  for z in Z:\n",
        "    for y in Y:\n",
        "      total += P(z,y,pc)*math.log(P(z,y,pc)/(Pz(z,Y,pc)*Py(y)))\n",
        "  return total"
      ],
      "execution_count": 119,
      "outputs": []
    },
    {
      "cell_type": "code",
      "metadata": {
        "colab": {
          "base_uri": "https://localhost:8080/",
          "height": 282
        },
        "id": "GF8SfkUEc3JS",
        "outputId": "1548db18-04dd-47a7-87e8-b839cfc4208f"
      },
      "source": [
        "Z=[1,2,3,4,5]\n",
        "Y=[1,2,3,4,5]\n",
        "pcArray = np.linspace(0.01,10, num = 500)\n",
        "mutualArray = []\n",
        "for pc in pcArray:\n",
        "  mutualArray.append(mutual(Z,Y,pc))\n",
        "plt.plot(pcArray, mutualArray)"
      ],
      "execution_count": 120,
      "outputs": [
        {
          "output_type": "execute_result",
          "data": {
            "text/plain": [
              "[<matplotlib.lines.Line2D at 0x7fb91291f250>]"
            ]
          },
          "metadata": {},
          "execution_count": 120
        },
        {
          "output_type": "display_data",
          "data": {
            "image/png": "[encoded data removed]",
            "text/plain": [
              "<Figure size 432x288 with 1 Axes>"
            ]
          },
          "metadata": {
            "needs_background": "light"
          }
        }
      ]
    },
    {
      "cell_type": "markdown",
      "metadata": {
        "id": "KSTkAi5ei7WV"
      },
      "source": [
        "###(E)\n",
        "If we increase the distance between different signals then we can increase the mutual information between $Z$ and $Y$ as they are more likely to be the same number."
      ]
    },
    {
      "cell_type": "code",
      "metadata": {
        "colab": {
          "base_uri": "https://localhost:8080/",
          "height": 299
        },
        "id": "vMBSsKoUiM9w",
        "outputId": "547c37cc-67ec-458c-d31a-d3ba02052857"
      },
      "source": [
        "Z= range(1,42)\n",
        "Y=[1,16,31,46,61]\n",
        "pcArray = np.linspace(0.01,10, num = 500)\n",
        "mutualArray = []\n",
        "for pc in pcArray:\n",
        "  mutualArray.append(mutual(Z,Y,pc))\n",
        "print(max(mutualArray))\n",
        "plt.plot(pcArray, mutualArray)"
      ],
      "execution_count": 135,
      "outputs": [
        {
          "output_type": "stream",
          "name": "stdout",
          "text": [
            "0.913790390232016\n"
          ]
        },
        {
          "output_type": "execute_result",
          "data": {
            "text/plain": [
              "[<matplotlib.lines.Line2D at 0x7fb90754cd10>]"
            ]
          },
          "metadata": {},
          "execution_count": 135
        },
        {
          "output_type": "display_data",
          "data": {
            "image/png": "[encoded data removed]",
            "text/plain": [
              "<Figure size 432x288 with 1 Axes>"
            ]
          },
          "metadata": {
            "needs_background": "light"
          }
        }
      ]
    }
  ]
}