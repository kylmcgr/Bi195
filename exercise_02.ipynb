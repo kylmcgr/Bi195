{
  "nbformat": 4,
  "nbformat_minor": 0,
  "metadata": {
    "colab": {
      "name": "exercise_02.ipynb",
      "provenance": []
    },
    "kernelspec": {
      "name": "python3",
      "display_name": "Python 3"
    },
    "language_info": {
      "name": "python"
    }
  },
  "cells": [
    {
      "cell_type": "code",
      "metadata": {
        "id": "6Dexc7zFsau-"
      },
      "source": [
        "import numpy as np\n",
        "from scipy.special import factorial\n",
        "import matplotlib.pyplot as plt\n",
        "from IPython.display import set_matplotlib_formats\n",
        "set_matplotlib_formats('svg')"
      ],
      "execution_count": 1,
      "outputs": []
    },
    {
      "cell_type": "markdown",
      "metadata": {
        "id": "4c91fwgda3i8"
      },
      "source": [
        "## Bayesian Framework can be extended to inference of model parameters given data.\n",
        "\n",
        "\n",
        "The diachronic interpretation of Bayes theorem:\n",
        "\n",
        "A new way to think of Bayes’s theorem: it gives us a way to update the probability of a hypothesis, $H$, given some observed data, $D$.\n",
        "\n",
        "$$P(H \\mid D) = \\frac{P(H)P(D \\mid H)}{P(D)}$$\n",
        "\n",
        "In this interpretation, each term has a name:\n",
        "\n",
        "- $P(H)$ is the probability of the hypothesis before we see the data, called the prior probability, or just prior.\n",
        "- $P(H \\mid D)$ is the probability of the hypothesis after we see the data, called the posterior.\n",
        "- $P(D \\mid H)$ is the probability of the data under the hypothesis, called the likelihood.\n",
        "- $P(D)$ is the total probability of the data, under any hypothesis.\n",
        "\n",
        "\n",
        "Now, imagine that we have a probability distribution $P(X \\mid \\lambda)$ that depends on a parameter $\\lambda$.\n",
        "\n",
        "Given a sequence of observations of $x$, how do we find $\\lambda$?"
      ]
    },
    {
      "cell_type": "markdown",
      "metadata": {
        "id": "fcIRe3BOeo5s"
      },
      "source": [
        "### Our Bayesian inference framework gives us a natural solution\n",
        "\n",
        "Now, we consider the parameters associated with the model to be random variables.\n",
        "\n",
        "$$P(X, \\lambda) = P(X \\mid \\lambda)P(\\lambda) = P(X)P(\\lambda \\mid X)$$\n",
        "\n",
        "and\n",
        "\n",
        "$$P(\\lambda \\mid X) = \\frac{P(X \\mid \\lambda)P(\\lambda)}{P(X)}$$\n",
        "\n",
        "where $\\lambda$ takes values in a domain that is commonly continuous e.g. $\\lambda \\in \\mathbb{R}$.\n"
      ]
    },
    {
      "cell_type": "markdown",
      "metadata": {
        "id": "YnBXac00fteM"
      },
      "source": [
        "We will proceed as always: \n",
        "\n",
        "Take the log and construct prior, likelihood and posterior."
      ]
    },
    {
      "cell_type": "markdown",
      "metadata": {
        "id": "ciZau0w_gsOj"
      },
      "source": [
        "### Examples: Poisson parameter inference... Problem Set\n",
        "\n",
        "Consider\n",
        "\n",
        "$$P(X \\mid \\lambda) = \\frac{e^{-\\lambda}\\lambda^x}{x!}$$\n",
        "\n",
        "and we observe a single event $x_1$ and we hope to infer $\\lambda$.\n",
        "\n",
        "Let's assume we have a uniform prior $P(\\lambda)$ and construct the log-likelihood:\n",
        "\n",
        "$$\\log P(\\lambda \\mid X) = \\log P(X \\mid \\lambda) + \\log P(\\lambda) - \\log P(X)$$\n",
        "\n",
        "Remember $\\log P(X)$ and the uniform prior don't depend on $\\lambda$. So we will omit them.\n",
        "\n",
        "\n",
        "$$\\begin{eqnarray}\n",
        "\\log P(\\lambda \\mid X) &=& \\log P(X \\mid \\lambda) \\\\\n",
        "&=& \\log \\frac{e^{-\\lambda}\\lambda^x}{x!} \\\\\n",
        "&=&  - \\lambda + x\\log \\lambda - \\log x!\n",
        "\\end{eqnarray}$$\n",
        "\n",
        "Let's find the critical point of the likelihood function by setting the first derivative (with respect to $\\lambda$) of the likelihood function to zero.\n",
        "\n",
        "$$\\frac{d}{d\\lambda}[P(\\lambda \\mid X)] = -1 + \\frac{x}{\\lambda} = 0$$\n",
        "\n",
        "$$\\lambda = x$$\n",
        "\n",
        "\n",
        "\n",
        "\n"
      ]
    },
    {
      "cell_type": "markdown",
      "metadata": {
        "id": "9aEwUPFFjtEV"
      },
      "source": [
        "### How to combine multiple observations?\n",
        "\n",
        "Imagine that we have a set of measurements $X = \\{x_i\\}$ now we want to find the posterior probability of $\\lambda$ given $X$. We consider:\n",
        "\n",
        "$$P(\\lambda \\mid x_1, x_2) = \\frac{P(x_1, x_2 \\mid \\lambda) P(\\lambda)}{P(x_1, x_2) } $$\n",
        "\n",
        "We will assume that each observation is independent and identically distributed (i.i.d.).\n",
        "\n",
        "Therefore:\n",
        "\n",
        "$$P(x_1, x_2 \\mid \\lambda) = P(x_1 \\mid \\lambda)P(x_2 \\mid \\lambda)$$\n",
        "\n",
        "Given a set of observations $X = \\{x_i\\}$ we want to find the posterior probability of $\\lambda$ given $X$. (We will omit $P(x_1,x_2,\\ldots,x_i)$ and assume uniform prior).\n",
        "\n",
        "$$\\begin{eqnarray}\n",
        "P(\\lambda \\mid x_1, x_2) &\\propto& P(x_1,x_2 \\mid \\lambda) \\\\\n",
        "&=& P(x_1 \\mid \\lambda)P(x_2 \\mid \\lambda)\n",
        "\\end{eqnarray}$$\n",
        "\n",
        "In general, given a set of observations $X = \\{x_i\\}$ now we want to find the posterior probability of $\\lambda$ given $X$. We consider:\n",
        "\n",
        "$$\\begin{eqnarray}\n",
        "P(\\lambda \\mid x_1, x_2, \\ldots, x_i) &\\propto& \\prod_{i}P(x_i \\mid \\lambda) \\\\\n",
        "\\log P(\\lambda \\mid x_1, x_2, \\ldots, x_i) &\\propto& \\sum_{i} \\log P(x_i \\mid \\lambda) \n",
        "\\end{eqnarray}$$\n",
        "\n",
        "If we have $n$ measurements $x_i$ , we have:\n",
        "\n",
        "$$\\begin{eqnarray}\n",
        "\\log L(\\lambda) &=&  \\sum_{i = 1}^{n} \\log P(x_i \\mid \\lambda) \\\\ \n",
        "&=&  \\sum_{i = 1}^{n} \\log \\frac{e^{-\\lambda}\\lambda^{x_i}}{x_i!}\\\\\n",
        "&=&  \\sum_{i = 1}^{n} -\\lambda + x_i\\log \\lambda - \\log x_i !\\\\\n",
        "&=&  -n\\lambda + \\sum_{i = 1}^{n} \\left(x_i\\log \\lambda - \\log x_i !\\right)\n",
        "\\end{eqnarray}$$\n",
        "\n",
        "Let's find the critical point of the likelihood function:\n",
        "\n",
        "$$\\frac{d}{d\\lambda}[L(\\lambda)] = -n + \\sum_{i = 1}^{n} \\frac{x_i}{\\lambda} = 0$$\n",
        "\n",
        "$$\\lambda = \\frac{1}{n} \\sum_{i = 1}^{n} x_i$$\n",
        "\n",
        "The sample mean, is, in fact, our best estimate of λ."
      ]
    },
    {
      "cell_type": "markdown",
      "metadata": {
        "id": "O2s07fLGrS5N"
      },
      "source": [
        "### Sketch $L(\\lambda \\mid x_i)$ for $x_i = 1$, $x_i = 2$, and $x_i = 4$ (three curves).\n",
        "\n",
        "From the previous exercise (Assuming uniform prior);\n",
        "\n",
        "$$\\begin{eqnarray}\n",
        "P(\\lambda \\mid X) &\\propto& P(X \\mid \\lambda) \\\\\n",
        "&=& \\frac{e^{-\\lambda}\\lambda^x}{x!} \\\\\n",
        "\\end{eqnarray}$$\n",
        "\n",
        "First let's code the Poisson distribution:"
      ]
    },
    {
      "cell_type": "code",
      "metadata": {
        "id": "fA7PbFzLq730"
      },
      "source": [
        "def poisson(x, lambda_):\n",
        "  return ((np.exp(-lambda_))*(lambda_**x))/(factorial(x))"
      ],
      "execution_count": 2,
      "outputs": []
    },
    {
      "cell_type": "code",
      "metadata": {
        "colab": {
          "base_uri": "https://localhost:8080/",
          "height": 387
        },
        "id": "URfKd_bqsV4J",
        "outputId": "be61d265-f63d-4f76-88bc-da7e0c64f270"
      },
      "source": [
        "lambda_ = np.linspace(0,20, num = 500)\n",
        "plt.plot(lambda_, poisson(1, lambda_), label = '$x = 1$')\n",
        "plt.plot(lambda_, poisson(2, lambda_), label = '$x = 2$')\n",
        "plt.plot(lambda_, poisson(4, lambda_), label = '$x = 4$')\n",
        "plt.legend()\n",
        "plt.xlabel('$\\lambda$')\n",
        "plt.ylabel('likelihood($\\lambda$)')"
      ],
      "execution_count": 3,
      "outputs": [
        {
          "output_type": "execute_result",
          "data": {
            "text/plain": [
              "Text(0, 0.5, 'likelihood($\\\\lambda$)')"
            ]
          },
          "metadata": {},
          "execution_count": 3
        },
        {
          "output_type": "display_data",
          "data": {
            "text/plain": [
              "<Figure size 432x288 with 1 Axes>"
            ],
            "image/svg+xml": "<?xml version=\"1.0\" encoding=\"utf-8\" standalone=\"no\"?>\n<!DOCTYPE svg PUBLIC \"-//W3C//DTD SVG 1.1//EN\"\n  \"http://www.w3.org/Graphics/SVG/1.1/DTD/svg11.dtd\">\n<!-- Created with matplotlib (https://matplotlib.org/) -->\n<svg height=\"262.19625pt\" version=\"1.1\" viewBox=\"0 0 392.14375 262.19625\" width=\"392.14375pt\" xmlns=\"http://www.w3.org/2000/svg\" xmlns:xlink=\"http://www.w3.org/1999/xlink\">\n <defs>\n  <style type=\"text/css\">\n*{stroke-linecap:butt;stroke-linejoin:round;}\n  </style>\n </defs>\n <g id=\"figure_1\">\n  <g id=\"patch_1\">\n   <path d=\"M 0 262.19625 \nL 392.14375 262.19625 \nL 392.14375 0 \nL 0 0 \nz\n\" style=\"fill:none;\"/>\n  </g>\n  <g id=\"axes_1\">\n   <g id=\"patch_2\">\n    <path d=\"M 50.14375 224.64 \nL 384.94375 224.64 \nL 384.94375 7.2 \nL 50.14375 7.2 \nz\n\" style=\"fill:#ffffff;\"/>\n   </g>\n   <g id=\"matplotlib.axis_1\">\n    <g id=\"xtick_1\">\n     <g id=\"line2d_1\">\n      <defs>\n       <path d=\"M 0 0 \nL 0 3.5 \n\" id=\"m329db47646\" style=\"stroke:#000000;stroke-width:0.8;\"/>\n      </defs>\n      <g>\n       <use style=\"stroke:#000000;stroke-width:0.8;\" x=\"65.361932\" xlink:href=\"#m329db47646\" y=\"224.64\"/>\n      </g>\n     </g>\n     <g id=\"text_1\">\n      <!-- 0.0 -->\n      <defs>\n       <path d=\"M 31.78125 66.40625 \nQ 24.171875 66.40625 20.328125 58.90625 \nQ 16.5 51.421875 16.5 36.375 \nQ 16.5 21.390625 20.328125 13.890625 \nQ 24.171875 6.390625 31.78125 6.390625 \nQ 39.453125 6.390625 43.28125 13.890625 \nQ 47.125 21.390625 47.125 36.375 \nQ 47.125 51.421875 43.28125 58.90625 \nQ 39.453125 66.40625 31.78125 66.40625 \nz\nM 31.78125 74.21875 \nQ 44.046875 74.21875 50.515625 64.515625 \nQ 56.984375 54.828125 56.984375 36.375 \nQ 56.984375 17.96875 50.515625 8.265625 \nQ 44.046875 -1.421875 31.78125 -1.421875 \nQ 19.53125 -1.421875 13.0625 8.265625 \nQ 6.59375 17.96875 6.59375 36.375 \nQ 6.59375 54.828125 13.0625 64.515625 \nQ 19.53125 74.21875 31.78125 74.21875 \nz\n\" id=\"DejaVuSans-48\"/>\n       <path d=\"M 10.6875 12.40625 \nL 21 12.40625 \nL 21 0 \nL 10.6875 0 \nz\n\" id=\"DejaVuSans-46\"/>\n      </defs>\n      <g transform=\"translate(57.410369 239.238437)scale(0.1 -0.1)\">\n       <use xlink:href=\"#DejaVuSans-48\"/>\n       <use x=\"63.623047\" xlink:href=\"#DejaVuSans-46\"/>\n       <use x=\"95.410156\" xlink:href=\"#DejaVuSans-48\"/>\n      </g>\n     </g>\n    </g>\n    <g id=\"xtick_2\">\n     <g id=\"line2d_2\">\n      <g>\n       <use style=\"stroke:#000000;stroke-width:0.8;\" x=\"103.407386\" xlink:href=\"#m329db47646\" y=\"224.64\"/>\n      </g>\n     </g>\n     <g id=\"text_2\">\n      <!-- 2.5 -->\n      <defs>\n       <path d=\"M 19.1875 8.296875 \nL 53.609375 8.296875 \nL 53.609375 0 \nL 7.328125 0 \nL 7.328125 8.296875 \nQ 12.9375 14.109375 22.625 23.890625 \nQ 32.328125 33.6875 34.8125 36.53125 \nQ 39.546875 41.84375 41.421875 45.53125 \nQ 43.3125 49.21875 43.3125 52.78125 \nQ 43.3125 58.59375 39.234375 62.25 \nQ 35.15625 65.921875 28.609375 65.921875 \nQ 23.96875 65.921875 18.8125 64.3125 \nQ 13.671875 62.703125 7.8125 59.421875 \nL 7.8125 69.390625 \nQ 13.765625 71.78125 18.9375 73 \nQ 24.125 74.21875 28.421875 74.21875 \nQ 39.75 74.21875 46.484375 68.546875 \nQ 53.21875 62.890625 53.21875 53.421875 \nQ 53.21875 48.921875 51.53125 44.890625 \nQ 49.859375 40.875 45.40625 35.40625 \nQ 44.1875 33.984375 37.640625 27.21875 \nQ 31.109375 20.453125 19.1875 8.296875 \nz\n\" id=\"DejaVuSans-50\"/>\n       <path d=\"M 10.796875 72.90625 \nL 49.515625 72.90625 \nL 49.515625 64.59375 \nL 19.828125 64.59375 \nL 19.828125 46.734375 \nQ 21.96875 47.46875 24.109375 47.828125 \nQ 26.265625 48.1875 28.421875 48.1875 \nQ 40.625 48.1875 47.75 41.5 \nQ 54.890625 34.8125 54.890625 23.390625 \nQ 54.890625 11.625 47.5625 5.09375 \nQ 40.234375 -1.421875 26.90625 -1.421875 \nQ 22.3125 -1.421875 17.546875 -0.640625 \nQ 12.796875 0.140625 7.71875 1.703125 \nL 7.71875 11.625 \nQ 12.109375 9.234375 16.796875 8.0625 \nQ 21.484375 6.890625 26.703125 6.890625 \nQ 35.15625 6.890625 40.078125 11.328125 \nQ 45.015625 15.765625 45.015625 23.390625 \nQ 45.015625 31 40.078125 35.4375 \nQ 35.15625 39.890625 26.703125 39.890625 \nQ 22.75 39.890625 18.8125 39.015625 \nQ 14.890625 38.140625 10.796875 36.28125 \nz\n\" id=\"DejaVuSans-53\"/>\n      </defs>\n      <g transform=\"translate(95.455824 239.238437)scale(0.1 -0.1)\">\n       <use xlink:href=\"#DejaVuSans-50\"/>\n       <use x=\"63.623047\" xlink:href=\"#DejaVuSans-46\"/>\n       <use x=\"95.410156\" xlink:href=\"#DejaVuSans-53\"/>\n      </g>\n     </g>\n    </g>\n    <g id=\"xtick_3\">\n     <g id=\"line2d_3\">\n      <g>\n       <use style=\"stroke:#000000;stroke-width:0.8;\" x=\"141.452841\" xlink:href=\"#m329db47646\" y=\"224.64\"/>\n      </g>\n     </g>\n     <g id=\"text_3\">\n      <!-- 5.0 -->\n      <g transform=\"translate(133.501278 239.238437)scale(0.1 -0.1)\">\n       <use xlink:href=\"#DejaVuSans-53\"/>\n       <use x=\"63.623047\" xlink:href=\"#DejaVuSans-46\"/>\n       <use x=\"95.410156\" xlink:href=\"#DejaVuSans-48\"/>\n      </g>\n     </g>\n    </g>\n    <g id=\"xtick_4\">\n     <g id=\"line2d_4\">\n      <g>\n       <use style=\"stroke:#000000;stroke-width:0.8;\" x=\"179.498295\" xlink:href=\"#m329db47646\" y=\"224.64\"/>\n      </g>\n     </g>\n     <g id=\"text_4\">\n      <!-- 7.5 -->\n      <defs>\n       <path d=\"M 8.203125 72.90625 \nL 55.078125 72.90625 \nL 55.078125 68.703125 \nL 28.609375 0 \nL 18.3125 0 \nL 43.21875 64.59375 \nL 8.203125 64.59375 \nz\n\" id=\"DejaVuSans-55\"/>\n      </defs>\n      <g transform=\"translate(171.546733 239.238437)scale(0.1 -0.1)\">\n       <use xlink:href=\"#DejaVuSans-55\"/>\n       <use x=\"63.623047\" xlink:href=\"#DejaVuSans-46\"/>\n       <use x=\"95.410156\" xlink:href=\"#DejaVuSans-53\"/>\n      </g>\n     </g>\n    </g>\n    <g id=\"xtick_5\">\n     <g id=\"line2d_5\">\n      <g>\n       <use style=\"stroke:#000000;stroke-width:0.8;\" x=\"217.54375\" xlink:href=\"#m329db47646\" y=\"224.64\"/>\n      </g>\n     </g>\n     <g id=\"text_5\">\n      <!-- 10.0 -->\n      <defs>\n       <path d=\"M 12.40625 8.296875 \nL 28.515625 8.296875 \nL 28.515625 63.921875 \nL 10.984375 60.40625 \nL 10.984375 69.390625 \nL 28.421875 72.90625 \nL 38.28125 72.90625 \nL 38.28125 8.296875 \nL 54.390625 8.296875 \nL 54.390625 0 \nL 12.40625 0 \nz\n\" id=\"DejaVuSans-49\"/>\n      </defs>\n      <g transform=\"translate(206.410938 239.238437)scale(0.1 -0.1)\">\n       <use xlink:href=\"#DejaVuSans-49\"/>\n       <use x=\"63.623047\" xlink:href=\"#DejaVuSans-48\"/>\n       <use x=\"127.246094\" xlink:href=\"#DejaVuSans-46\"/>\n       <use x=\"159.033203\" xlink:href=\"#DejaVuSans-48\"/>\n      </g>\n     </g>\n    </g>\n    <g id=\"xtick_6\">\n     <g id=\"line2d_6\">\n      <g>\n       <use style=\"stroke:#000000;stroke-width:0.8;\" x=\"255.589205\" xlink:href=\"#m329db47646\" y=\"224.64\"/>\n      </g>\n     </g>\n     <g id=\"text_6\">\n      <!-- 12.5 -->\n      <g transform=\"translate(244.456392 239.238437)scale(0.1 -0.1)\">\n       <use xlink:href=\"#DejaVuSans-49\"/>\n       <use x=\"63.623047\" xlink:href=\"#DejaVuSans-50\"/>\n       <use x=\"127.246094\" xlink:href=\"#DejaVuSans-46\"/>\n       <use x=\"159.033203\" xlink:href=\"#DejaVuSans-53\"/>\n      </g>\n     </g>\n    </g>\n    <g id=\"xtick_7\">\n     <g id=\"line2d_7\">\n      <g>\n       <use style=\"stroke:#000000;stroke-width:0.8;\" x=\"293.634659\" xlink:href=\"#m329db47646\" y=\"224.64\"/>\n      </g>\n     </g>\n     <g id=\"text_7\">\n      <!-- 15.0 -->\n      <g transform=\"translate(282.501847 239.238437)scale(0.1 -0.1)\">\n       <use xlink:href=\"#DejaVuSans-49\"/>\n       <use x=\"63.623047\" xlink:href=\"#DejaVuSans-53\"/>\n       <use x=\"127.246094\" xlink:href=\"#DejaVuSans-46\"/>\n       <use x=\"159.033203\" xlink:href=\"#DejaVuSans-48\"/>\n      </g>\n     </g>\n    </g>\n    <g id=\"xtick_8\">\n     <g id=\"line2d_8\">\n      <g>\n       <use style=\"stroke:#000000;stroke-width:0.8;\" x=\"331.680114\" xlink:href=\"#m329db47646\" y=\"224.64\"/>\n      </g>\n     </g>\n     <g id=\"text_8\">\n      <!-- 17.5 -->\n      <g transform=\"translate(320.547301 239.238437)scale(0.1 -0.1)\">\n       <use xlink:href=\"#DejaVuSans-49\"/>\n       <use x=\"63.623047\" xlink:href=\"#DejaVuSans-55\"/>\n       <use x=\"127.246094\" xlink:href=\"#DejaVuSans-46\"/>\n       <use x=\"159.033203\" xlink:href=\"#DejaVuSans-53\"/>\n      </g>\n     </g>\n    </g>\n    <g id=\"xtick_9\">\n     <g id=\"line2d_9\">\n      <g>\n       <use style=\"stroke:#000000;stroke-width:0.8;\" x=\"369.725568\" xlink:href=\"#m329db47646\" y=\"224.64\"/>\n      </g>\n     </g>\n     <g id=\"text_9\">\n      <!-- 20.0 -->\n      <g transform=\"translate(358.592756 239.238437)scale(0.1 -0.1)\">\n       <use xlink:href=\"#DejaVuSans-50\"/>\n       <use x=\"63.623047\" xlink:href=\"#DejaVuSans-48\"/>\n       <use x=\"127.246094\" xlink:href=\"#DejaVuSans-46\"/>\n       <use x=\"159.033203\" xlink:href=\"#DejaVuSans-48\"/>\n      </g>\n     </g>\n    </g>\n    <g id=\"text_10\">\n     <!-- $\\lambda$ -->\n     <defs>\n      <path d=\"M 36.71875 67.4375 \nL 48.828125 0 \nL 39.3125 0 \nL 31.84375 40.4375 \nL 5.125 0 \nL -4.390625 0 \nL 29.734375 52.4375 \nL 28.03125 62.109375 \nQ 26.953125 68.265625 21.734375 68.265625 \nL 17.046875 68.265625 \nL 18.5 75.984375 \nL 24.21875 75.875 \nQ 35.203125 75.734375 36.71875 67.4375 \nz\n\" id=\"DejaVuSans-Oblique-955\"/>\n     </defs>\n     <g transform=\"translate(214.54375 252.916562)scale(0.1 -0.1)\">\n      <use transform=\"translate(0 0.015625)\" xlink:href=\"#DejaVuSans-Oblique-955\"/>\n     </g>\n    </g>\n   </g>\n   <g id=\"matplotlib.axis_2\">\n    <g id=\"ytick_1\">\n     <g id=\"line2d_10\">\n      <defs>\n       <path d=\"M 0 0 \nL -3.5 0 \n\" id=\"maaf8767dbc\" style=\"stroke:#000000;stroke-width:0.8;\"/>\n      </defs>\n      <g>\n       <use style=\"stroke:#000000;stroke-width:0.8;\" x=\"50.14375\" xlink:href=\"#maaf8767dbc\" y=\"214.756364\"/>\n      </g>\n     </g>\n     <g id=\"text_11\">\n      <!-- 0.00 -->\n      <g transform=\"translate(20.878125 218.555582)scale(0.1 -0.1)\">\n       <use xlink:href=\"#DejaVuSans-48\"/>\n       <use x=\"63.623047\" xlink:href=\"#DejaVuSans-46\"/>\n       <use x=\"95.410156\" xlink:href=\"#DejaVuSans-48\"/>\n       <use x=\"159.033203\" xlink:href=\"#DejaVuSans-48\"/>\n      </g>\n     </g>\n    </g>\n    <g id=\"ytick_2\">\n     <g id=\"line2d_11\">\n      <g>\n       <use style=\"stroke:#000000;stroke-width:0.8;\" x=\"50.14375\" xlink:href=\"#maaf8767dbc\" y=\"187.889801\"/>\n      </g>\n     </g>\n     <g id=\"text_12\">\n      <!-- 0.05 -->\n      <g transform=\"translate(20.878125 191.689019)scale(0.1 -0.1)\">\n       <use xlink:href=\"#DejaVuSans-48\"/>\n       <use x=\"63.623047\" xlink:href=\"#DejaVuSans-46\"/>\n       <use x=\"95.410156\" xlink:href=\"#DejaVuSans-48\"/>\n       <use x=\"159.033203\" xlink:href=\"#DejaVuSans-53\"/>\n      </g>\n     </g>\n    </g>\n    <g id=\"ytick_3\">\n     <g id=\"line2d_12\">\n      <g>\n       <use style=\"stroke:#000000;stroke-width:0.8;\" x=\"50.14375\" xlink:href=\"#maaf8767dbc\" y=\"161.023238\"/>\n      </g>\n     </g>\n     <g id=\"text_13\">\n      <!-- 0.10 -->\n      <g transform=\"translate(20.878125 164.822456)scale(0.1 -0.1)\">\n       <use xlink:href=\"#DejaVuSans-48\"/>\n       <use x=\"63.623047\" xlink:href=\"#DejaVuSans-46\"/>\n       <use x=\"95.410156\" xlink:href=\"#DejaVuSans-49\"/>\n       <use x=\"159.033203\" xlink:href=\"#DejaVuSans-48\"/>\n      </g>\n     </g>\n    </g>\n    <g id=\"ytick_4\">\n     <g id=\"line2d_13\">\n      <g>\n       <use style=\"stroke:#000000;stroke-width:0.8;\" x=\"50.14375\" xlink:href=\"#maaf8767dbc\" y=\"134.156675\"/>\n      </g>\n     </g>\n     <g id=\"text_14\">\n      <!-- 0.15 -->\n      <g transform=\"translate(20.878125 137.955893)scale(0.1 -0.1)\">\n       <use xlink:href=\"#DejaVuSans-48\"/>\n       <use x=\"63.623047\" xlink:href=\"#DejaVuSans-46\"/>\n       <use x=\"95.410156\" xlink:href=\"#DejaVuSans-49\"/>\n       <use x=\"159.033203\" xlink:href=\"#DejaVuSans-53\"/>\n      </g>\n     </g>\n    </g>\n    <g id=\"ytick_5\">\n     <g id=\"line2d_14\">\n      <g>\n       <use style=\"stroke:#000000;stroke-width:0.8;\" x=\"50.14375\" xlink:href=\"#maaf8767dbc\" y=\"107.290112\"/>\n      </g>\n     </g>\n     <g id=\"text_15\">\n      <!-- 0.20 -->\n      <g transform=\"translate(20.878125 111.08933)scale(0.1 -0.1)\">\n       <use xlink:href=\"#DejaVuSans-48\"/>\n       <use x=\"63.623047\" xlink:href=\"#DejaVuSans-46\"/>\n       <use x=\"95.410156\" xlink:href=\"#DejaVuSans-50\"/>\n       <use x=\"159.033203\" xlink:href=\"#DejaVuSans-48\"/>\n      </g>\n     </g>\n    </g>\n    <g id=\"ytick_6\">\n     <g id=\"line2d_15\">\n      <g>\n       <use style=\"stroke:#000000;stroke-width:0.8;\" x=\"50.14375\" xlink:href=\"#maaf8767dbc\" y=\"80.423549\"/>\n      </g>\n     </g>\n     <g id=\"text_16\">\n      <!-- 0.25 -->\n      <g transform=\"translate(20.878125 84.222767)scale(0.1 -0.1)\">\n       <use xlink:href=\"#DejaVuSans-48\"/>\n       <use x=\"63.623047\" xlink:href=\"#DejaVuSans-46\"/>\n       <use x=\"95.410156\" xlink:href=\"#DejaVuSans-50\"/>\n       <use x=\"159.033203\" xlink:href=\"#DejaVuSans-53\"/>\n      </g>\n     </g>\n    </g>\n    <g id=\"ytick_7\">\n     <g id=\"line2d_16\">\n      <g>\n       <use style=\"stroke:#000000;stroke-width:0.8;\" x=\"50.14375\" xlink:href=\"#maaf8767dbc\" y=\"53.556986\"/>\n      </g>\n     </g>\n     <g id=\"text_17\">\n      <!-- 0.30 -->\n      <defs>\n       <path d=\"M 40.578125 39.3125 \nQ 47.65625 37.796875 51.625 33 \nQ 55.609375 28.21875 55.609375 21.1875 \nQ 55.609375 10.40625 48.1875 4.484375 \nQ 40.765625 -1.421875 27.09375 -1.421875 \nQ 22.515625 -1.421875 17.65625 -0.515625 \nQ 12.796875 0.390625 7.625 2.203125 \nL 7.625 11.71875 \nQ 11.71875 9.328125 16.59375 8.109375 \nQ 21.484375 6.890625 26.8125 6.890625 \nQ 36.078125 6.890625 40.9375 10.546875 \nQ 45.796875 14.203125 45.796875 21.1875 \nQ 45.796875 27.640625 41.28125 31.265625 \nQ 36.765625 34.90625 28.71875 34.90625 \nL 20.21875 34.90625 \nL 20.21875 43.015625 \nL 29.109375 43.015625 \nQ 36.375 43.015625 40.234375 45.921875 \nQ 44.09375 48.828125 44.09375 54.296875 \nQ 44.09375 59.90625 40.109375 62.90625 \nQ 36.140625 65.921875 28.71875 65.921875 \nQ 24.65625 65.921875 20.015625 65.03125 \nQ 15.375 64.15625 9.8125 62.3125 \nL 9.8125 71.09375 \nQ 15.4375 72.65625 20.34375 73.4375 \nQ 25.25 74.21875 29.59375 74.21875 \nQ 40.828125 74.21875 47.359375 69.109375 \nQ 53.90625 64.015625 53.90625 55.328125 \nQ 53.90625 49.265625 50.4375 45.09375 \nQ 46.96875 40.921875 40.578125 39.3125 \nz\n\" id=\"DejaVuSans-51\"/>\n      </defs>\n      <g transform=\"translate(20.878125 57.356204)scale(0.1 -0.1)\">\n       <use xlink:href=\"#DejaVuSans-48\"/>\n       <use x=\"63.623047\" xlink:href=\"#DejaVuSans-46\"/>\n       <use x=\"95.410156\" xlink:href=\"#DejaVuSans-51\"/>\n       <use x=\"159.033203\" xlink:href=\"#DejaVuSans-48\"/>\n      </g>\n     </g>\n    </g>\n    <g id=\"ytick_8\">\n     <g id=\"line2d_17\">\n      <g>\n       <use style=\"stroke:#000000;stroke-width:0.8;\" x=\"50.14375\" xlink:href=\"#maaf8767dbc\" y=\"26.690423\"/>\n      </g>\n     </g>\n     <g id=\"text_18\">\n      <!-- 0.35 -->\n      <g transform=\"translate(20.878125 30.489641)scale(0.1 -0.1)\">\n       <use xlink:href=\"#DejaVuSans-48\"/>\n       <use x=\"63.623047\" xlink:href=\"#DejaVuSans-46\"/>\n       <use x=\"95.410156\" xlink:href=\"#DejaVuSans-51\"/>\n       <use x=\"159.033203\" xlink:href=\"#DejaVuSans-53\"/>\n      </g>\n     </g>\n    </g>\n    <g id=\"text_19\">\n     <!-- likelihood($\\lambda$) -->\n     <defs>\n      <path d=\"M 9.421875 75.984375 \nL 18.40625 75.984375 \nL 18.40625 0 \nL 9.421875 0 \nz\n\" id=\"DejaVuSans-108\"/>\n      <path d=\"M 9.421875 54.6875 \nL 18.40625 54.6875 \nL 18.40625 0 \nL 9.421875 0 \nz\nM 9.421875 75.984375 \nL 18.40625 75.984375 \nL 18.40625 64.59375 \nL 9.421875 64.59375 \nz\n\" id=\"DejaVuSans-105\"/>\n      <path d=\"M 9.078125 75.984375 \nL 18.109375 75.984375 \nL 18.109375 31.109375 \nL 44.921875 54.6875 \nL 56.390625 54.6875 \nL 27.390625 29.109375 \nL 57.625 0 \nL 45.90625 0 \nL 18.109375 26.703125 \nL 18.109375 0 \nL 9.078125 0 \nz\n\" id=\"DejaVuSans-107\"/>\n      <path d=\"M 56.203125 29.59375 \nL 56.203125 25.203125 \nL 14.890625 25.203125 \nQ 15.484375 15.921875 20.484375 11.0625 \nQ 25.484375 6.203125 34.421875 6.203125 \nQ 39.59375 6.203125 44.453125 7.46875 \nQ 49.3125 8.734375 54.109375 11.28125 \nL 54.109375 2.78125 \nQ 49.265625 0.734375 44.1875 -0.34375 \nQ 39.109375 -1.421875 33.890625 -1.421875 \nQ 20.796875 -1.421875 13.15625 6.1875 \nQ 5.515625 13.8125 5.515625 26.8125 \nQ 5.515625 40.234375 12.765625 48.109375 \nQ 20.015625 56 32.328125 56 \nQ 43.359375 56 49.78125 48.890625 \nQ 56.203125 41.796875 56.203125 29.59375 \nz\nM 47.21875 32.234375 \nQ 47.125 39.59375 43.09375 43.984375 \nQ 39.0625 48.390625 32.421875 48.390625 \nQ 24.90625 48.390625 20.390625 44.140625 \nQ 15.875 39.890625 15.1875 32.171875 \nz\n\" id=\"DejaVuSans-101\"/>\n      <path d=\"M 54.890625 33.015625 \nL 54.890625 0 \nL 45.90625 0 \nL 45.90625 32.71875 \nQ 45.90625 40.484375 42.875 44.328125 \nQ 39.84375 48.1875 33.796875 48.1875 \nQ 26.515625 48.1875 22.3125 43.546875 \nQ 18.109375 38.921875 18.109375 30.90625 \nL 18.109375 0 \nL 9.078125 0 \nL 9.078125 75.984375 \nL 18.109375 75.984375 \nL 18.109375 46.1875 \nQ 21.34375 51.125 25.703125 53.5625 \nQ 30.078125 56 35.796875 56 \nQ 45.21875 56 50.046875 50.171875 \nQ 54.890625 44.34375 54.890625 33.015625 \nz\n\" id=\"DejaVuSans-104\"/>\n      <path d=\"M 30.609375 48.390625 \nQ 23.390625 48.390625 19.1875 42.75 \nQ 14.984375 37.109375 14.984375 27.296875 \nQ 14.984375 17.484375 19.15625 11.84375 \nQ 23.34375 6.203125 30.609375 6.203125 \nQ 37.796875 6.203125 41.984375 11.859375 \nQ 46.1875 17.53125 46.1875 27.296875 \nQ 46.1875 37.015625 41.984375 42.703125 \nQ 37.796875 48.390625 30.609375 48.390625 \nz\nM 30.609375 56 \nQ 42.328125 56 49.015625 48.375 \nQ 55.71875 40.765625 55.71875 27.296875 \nQ 55.71875 13.875 49.015625 6.21875 \nQ 42.328125 -1.421875 30.609375 -1.421875 \nQ 18.84375 -1.421875 12.171875 6.21875 \nQ 5.515625 13.875 5.515625 27.296875 \nQ 5.515625 40.765625 12.171875 48.375 \nQ 18.84375 56 30.609375 56 \nz\n\" id=\"DejaVuSans-111\"/>\n      <path d=\"M 45.40625 46.390625 \nL 45.40625 75.984375 \nL 54.390625 75.984375 \nL 54.390625 0 \nL 45.40625 0 \nL 45.40625 8.203125 \nQ 42.578125 3.328125 38.25 0.953125 \nQ 33.9375 -1.421875 27.875 -1.421875 \nQ 17.96875 -1.421875 11.734375 6.484375 \nQ 5.515625 14.40625 5.515625 27.296875 \nQ 5.515625 40.1875 11.734375 48.09375 \nQ 17.96875 56 27.875 56 \nQ 33.9375 56 38.25 53.625 \nQ 42.578125 51.265625 45.40625 46.390625 \nz\nM 14.796875 27.296875 \nQ 14.796875 17.390625 18.875 11.75 \nQ 22.953125 6.109375 30.078125 6.109375 \nQ 37.203125 6.109375 41.296875 11.75 \nQ 45.40625 17.390625 45.40625 27.296875 \nQ 45.40625 37.203125 41.296875 42.84375 \nQ 37.203125 48.484375 30.078125 48.484375 \nQ 22.953125 48.484375 18.875 42.84375 \nQ 14.796875 37.203125 14.796875 27.296875 \nz\n\" id=\"DejaVuSans-100\"/>\n      <path d=\"M 31 75.875 \nQ 24.46875 64.65625 21.28125 53.65625 \nQ 18.109375 42.671875 18.109375 31.390625 \nQ 18.109375 20.125 21.3125 9.0625 \nQ 24.515625 -2 31 -13.1875 \nL 23.1875 -13.1875 \nQ 15.875 -1.703125 12.234375 9.375 \nQ 8.59375 20.453125 8.59375 31.390625 \nQ 8.59375 42.28125 12.203125 53.3125 \nQ 15.828125 64.359375 23.1875 75.875 \nz\n\" id=\"DejaVuSans-40\"/>\n      <path d=\"M 8.015625 75.875 \nL 15.828125 75.875 \nQ 23.140625 64.359375 26.78125 53.3125 \nQ 30.421875 42.28125 30.421875 31.390625 \nQ 30.421875 20.453125 26.78125 9.375 \nQ 23.140625 -1.703125 15.828125 -13.1875 \nL 8.015625 -13.1875 \nQ 14.5 -2 17.703125 9.0625 \nQ 20.90625 20.125 20.90625 31.390625 \nQ 20.90625 42.671875 17.703125 53.65625 \nQ 14.5 64.65625 8.015625 75.875 \nz\n\" id=\"DejaVuSans-41\"/>\n     </defs>\n     <g transform=\"translate(14.798438 146.77)rotate(-90)scale(0.1 -0.1)\">\n      <use transform=\"translate(0 0.015625)\" xlink:href=\"#DejaVuSans-108\"/>\n      <use transform=\"translate(27.783203 0.015625)\" xlink:href=\"#DejaVuSans-105\"/>\n      <use transform=\"translate(55.566406 0.015625)\" xlink:href=\"#DejaVuSans-107\"/>\n      <use transform=\"translate(113.476562 0.015625)\" xlink:href=\"#DejaVuSans-101\"/>\n      <use transform=\"translate(175 0.015625)\" xlink:href=\"#DejaVuSans-108\"/>\n      <use transform=\"translate(202.783203 0.015625)\" xlink:href=\"#DejaVuSans-105\"/>\n      <use transform=\"translate(230.566406 0.015625)\" xlink:href=\"#DejaVuSans-104\"/>\n      <use transform=\"translate(293.945312 0.015625)\" xlink:href=\"#DejaVuSans-111\"/>\n      <use transform=\"translate(355.126953 0.015625)\" xlink:href=\"#DejaVuSans-111\"/>\n      <use transform=\"translate(416.308594 0.015625)\" xlink:href=\"#DejaVuSans-100\"/>\n      <use transform=\"translate(479.785156 0.015625)\" xlink:href=\"#DejaVuSans-40\"/>\n      <use transform=\"translate(518.798828 0.015625)\" xlink:href=\"#DejaVuSans-Oblique-955\"/>\n      <use transform=\"translate(577.978516 0.015625)\" xlink:href=\"#DejaVuSans-41\"/>\n     </g>\n    </g>\n   </g>\n   <g id=\"line2d_18\">\n    <path clip-path=\"url(#p7a3b6fc773)\" d=\"M 65.361932 214.756364 \nL 66.581826 175.001674 \nL 67.80172 141.371722 \nL 69.021615 113.15881 \nL 70.241509 89.727926 \nL 71.461403 70.509748 \nL 72.681298 54.994288 \nL 73.901192 42.725132 \nL 75.121086 33.29421 \nL 76.340981 26.337058 \nL 76.950928 23.683109 \nL 77.560875 21.528522 \nL 78.170822 19.838156 \nL 78.780769 18.57886 \nL 79.390717 17.719373 \nL 80.000664 17.230222 \nL 80.610611 17.083636 \nL 81.220558 17.253453 \nL 81.830505 17.715036 \nL 82.440452 18.445199 \nL 83.0504 19.422125 \nL 84.270294 22.035433 \nL 85.490188 25.405214 \nL 86.710083 29.399418 \nL 88.539924 36.311258 \nL 90.979713 46.742947 \nL 94.639396 63.784382 \nL 101.348815 95.348037 \nL 105.008498 111.324011 \nL 108.058234 123.595564 \nL 111.107969 134.821105 \nL 113.547758 143.03016 \nL 115.987547 150.561176 \nL 118.427335 157.434901 \nL 120.867124 163.680816 \nL 123.306913 169.334089 \nL 125.746701 174.433246 \nL 128.18649 179.018404 \nL 130.626279 183.12995 \nL 133.066067 186.807589 \nL 135.505856 190.089652 \nL 137.945645 193.012635 \nL 140.385433 195.610904 \nL 142.825222 197.916521 \nL 145.265011 199.959174 \nL 148.314747 202.184088 \nL 151.364482 204.088901 \nL 154.414218 205.716499 \nL 157.463954 207.10475 \nL 161.123637 208.501236 \nL 164.78332 209.650319 \nL 169.05295 210.733829 \nL 173.32258 211.59279 \nL 178.202158 212.356847 \nL 183.691682 213.002102 \nL 190.401101 213.563546 \nL 198.330414 214.003024 \nL 208.699516 214.345507 \nL 223.338248 214.583317 \nL 247.126188 214.714655 \nL 308.120904 214.755352 \nL 369.725568 214.756341 \nL 369.725568 214.756341 \n\" style=\"fill:none;stroke:#1f77b4;stroke-linecap:square;stroke-width:1.5;\"/>\n   </g>\n   <g id=\"line2d_19\">\n    <path clip-path=\"url(#p7a3b6fc773)\" d=\"M 65.361932 214.756364 \nL 65.971879 214.34173 \nL 66.581826 213.162989 \nL 67.191773 211.312121 \nL 67.80172 208.873827 \nL 69.021615 202.540225 \nL 70.241509 194.711724 \nL 72.071351 181.152914 \nL 79.390717 123.937711 \nL 81.220558 111.849035 \nL 83.0504 101.235464 \nL 84.880241 92.193187 \nL 86.100135 87.052304 \nL 87.32003 82.61503 \nL 88.539924 78.866303 \nL 89.759819 75.784367 \nL 90.979713 73.342265 \nL 92.199607 71.509113 \nL 93.419502 70.251182 \nL 94.639396 69.532814 \nL 95.249343 69.364487 \nL 95.85929 69.31719 \nL 97.079185 69.56697 \nL 98.299079 70.244821 \nL 99.518973 71.31385 \nL 100.738868 72.737957 \nL 101.958762 74.482111 \nL 103.788603 77.625003 \nL 105.618445 81.304765 \nL 108.058234 86.875483 \nL 110.498022 93.012632 \nL 114.157705 102.8838 \nL 125.746701 134.756592 \nL 129.406384 144.00132 \nL 133.066067 152.585743 \nL 136.115803 159.188684 \nL 139.165539 165.274726 \nL 142.215275 170.844542 \nL 145.265011 175.910034 \nL 148.314747 180.491244 \nL 151.364482 184.613834 \nL 154.414218 188.307061 \nL 157.463954 191.602182 \nL 160.51369 194.531212 \nL 163.563426 197.125996 \nL 166.613162 199.417512 \nL 169.662897 201.435391 \nL 172.712633 203.207585 \nL 176.372316 205.046481 \nL 180.031999 206.610309 \nL 183.691682 207.936188 \nL 187.961312 209.226199 \nL 192.230943 210.28308 \nL 197.11052 211.255666 \nL 202.600044 212.108152 \nL 208.699516 212.821468 \nL 216.018882 213.434957 \nL 224.558142 213.91452 \nL 235.537191 214.288801 \nL 250.175923 214.545618 \nL 272.743969 214.696137 \nL 322.759636 214.752895 \nL 369.725568 214.756142 \nL 369.725568 214.756142 \n\" style=\"fill:none;stroke:#ff7f0e;stroke-linecap:square;stroke-width:1.5;\"/>\n   </g>\n   <g id=\"line2d_20\">\n    <path clip-path=\"url(#p7a3b6fc773)\" d=\"M 65.361932 214.756364 \nL 69.631562 214.65158 \nL 71.461403 214.369389 \nL 72.681298 214.015745 \nL 73.901192 213.489971 \nL 75.121086 212.762373 \nL 76.340981 211.808414 \nL 77.560875 210.609337 \nL 78.780769 209.152412 \nL 80.000664 207.430895 \nL 81.830505 204.351756 \nL 83.660347 200.694726 \nL 85.490188 196.501152 \nL 87.929977 190.180339 \nL 90.369766 183.190782 \nL 94.029449 171.898526 \nL 101.348815 148.965171 \nL 104.398551 140.206536 \nL 106.838339 133.821427 \nL 109.278128 128.099295 \nL 111.107969 124.287469 \nL 112.937811 120.910991 \nL 114.767652 117.983242 \nL 116.597494 115.510585 \nL 118.427335 113.493051 \nL 120.257177 111.92505 \nL 121.477071 111.124462 \nL 122.696966 110.514927 \nL 123.91686 110.091546 \nL 125.136754 109.848774 \nL 126.356649 109.780509 \nL 127.576543 109.880169 \nL 128.796437 110.140774 \nL 130.626279 110.8174 \nL 132.45612 111.813976 \nL 134.285962 113.103998 \nL 136.115803 114.660554 \nL 138.555592 117.104046 \nL 140.995381 119.910599 \nL 144.045116 123.836855 \nL 147.704799 129.014334 \nL 151.97443 135.475949 \nL 168.443003 160.857283 \nL 172.712633 166.867 \nL 176.982263 172.475232 \nL 180.641946 176.933892 \nL 184.301629 181.058561 \nL 187.961312 184.846956 \nL 191.620995 188.303944 \nL 195.280678 191.439889 \nL 198.940361 194.269222 \nL 202.600044 196.809216 \nL 206.259727 199.078975 \nL 209.91941 201.098599 \nL 213.579093 202.888521 \nL 217.848724 204.71343 \nL 222.118354 206.284345 \nL 226.387984 207.630722 \nL 231.267561 208.92955 \nL 236.147139 210.008099 \nL 241.636663 210.999419 \nL 247.736135 211.873247 \nL 254.445554 212.612724 \nL 262.374867 213.255886 \nL 271.524074 213.770113 \nL 283.11307 214.183214 \nL 298.36175 214.480507 \nL 320.319848 214.662931 \nL 361.796255 214.745177 \nL 369.725568 214.74898 \nL 369.725568 214.74898 \n\" style=\"fill:none;stroke:#2ca02c;stroke-linecap:square;stroke-width:1.5;\"/>\n   </g>\n   <g id=\"patch_3\">\n    <path d=\"M 50.14375 224.64 \nL 50.14375 7.2 \n\" style=\"fill:none;stroke:#000000;stroke-linecap:square;stroke-linejoin:miter;stroke-width:0.8;\"/>\n   </g>\n   <g id=\"patch_4\">\n    <path d=\"M 384.94375 224.64 \nL 384.94375 7.2 \n\" style=\"fill:none;stroke:#000000;stroke-linecap:square;stroke-linejoin:miter;stroke-width:0.8;\"/>\n   </g>\n   <g id=\"patch_5\">\n    <path d=\"M 50.14375 224.64 \nL 384.94375 224.64 \n\" style=\"fill:none;stroke:#000000;stroke-linecap:square;stroke-linejoin:miter;stroke-width:0.8;\"/>\n   </g>\n   <g id=\"patch_6\">\n    <path d=\"M 50.14375 7.2 \nL 384.94375 7.2 \n\" style=\"fill:none;stroke:#000000;stroke-linecap:square;stroke-linejoin:miter;stroke-width:0.8;\"/>\n   </g>\n   <g id=\"legend_1\">\n    <g id=\"patch_7\">\n     <path d=\"M 321.34375 59.234375 \nL 377.94375 59.234375 \nQ 379.94375 59.234375 379.94375 57.234375 \nL 379.94375 14.2 \nQ 379.94375 12.2 377.94375 12.2 \nL 321.34375 12.2 \nQ 319.34375 12.2 319.34375 14.2 \nL 319.34375 57.234375 \nQ 319.34375 59.234375 321.34375 59.234375 \nz\n\" style=\"fill:#ffffff;opacity:0.8;stroke:#cccccc;stroke-linejoin:miter;\"/>\n    </g>\n    <g id=\"line2d_21\">\n     <path d=\"M 323.34375 20.298437 \nL 343.34375 20.298437 \n\" style=\"fill:none;stroke:#1f77b4;stroke-linecap:square;stroke-width:1.5;\"/>\n    </g>\n    <g id=\"line2d_22\"/>\n    <g id=\"text_20\">\n     <!-- $x = 1$ -->\n     <defs>\n      <path d=\"M 60.015625 54.6875 \nL 34.90625 27.875 \nL 50.296875 0 \nL 39.984375 0 \nL 28.421875 21.6875 \nL 8.296875 0 \nL -2.59375 0 \nL 24.3125 28.8125 \nL 10.015625 54.6875 \nL 20.3125 54.6875 \nL 30.8125 34.90625 \nL 49.125 54.6875 \nz\n\" id=\"DejaVuSans-Oblique-120\"/>\n      <path d=\"M 10.59375 45.40625 \nL 73.1875 45.40625 \nL 73.1875 37.203125 \nL 10.59375 37.203125 \nz\nM 10.59375 25.484375 \nL 73.1875 25.484375 \nL 73.1875 17.1875 \nL 10.59375 17.1875 \nz\n\" id=\"DejaVuSans-61\"/>\n     </defs>\n     <g transform=\"translate(351.34375 23.798437)scale(0.1 -0.1)\">\n      <use transform=\"translate(0 0.09375)\" xlink:href=\"#DejaVuSans-Oblique-120\"/>\n      <use transform=\"translate(78.662109 0.09375)\" xlink:href=\"#DejaVuSans-61\"/>\n      <use transform=\"translate(181.933594 0.09375)\" xlink:href=\"#DejaVuSans-49\"/>\n     </g>\n    </g>\n    <g id=\"line2d_23\">\n     <path d=\"M 323.34375 34.976562 \nL 343.34375 34.976562 \n\" style=\"fill:none;stroke:#ff7f0e;stroke-linecap:square;stroke-width:1.5;\"/>\n    </g>\n    <g id=\"line2d_24\"/>\n    <g id=\"text_21\">\n     <!-- $x = 2$ -->\n     <g transform=\"translate(351.34375 38.476562)scale(0.1 -0.1)\">\n      <use transform=\"translate(0 0.78125)\" xlink:href=\"#DejaVuSans-Oblique-120\"/>\n      <use transform=\"translate(78.662109 0.78125)\" xlink:href=\"#DejaVuSans-61\"/>\n      <use transform=\"translate(181.933594 0.78125)\" xlink:href=\"#DejaVuSans-50\"/>\n     </g>\n    </g>\n    <g id=\"line2d_25\">\n     <path d=\"M 323.34375 49.654687 \nL 343.34375 49.654687 \n\" style=\"fill:none;stroke:#2ca02c;stroke-linecap:square;stroke-width:1.5;\"/>\n    </g>\n    <g id=\"line2d_26\"/>\n    <g id=\"text_22\">\n     <!-- $x = 4$ -->\n     <defs>\n      <path d=\"M 37.796875 64.3125 \nL 12.890625 25.390625 \nL 37.796875 25.390625 \nz\nM 35.203125 72.90625 \nL 47.609375 72.90625 \nL 47.609375 25.390625 \nL 58.015625 25.390625 \nL 58.015625 17.1875 \nL 47.609375 17.1875 \nL 47.609375 0 \nL 37.796875 0 \nL 37.796875 17.1875 \nL 4.890625 17.1875 \nL 4.890625 26.703125 \nz\n\" id=\"DejaVuSans-52\"/>\n     </defs>\n     <g transform=\"translate(351.34375 53.154687)scale(0.1 -0.1)\">\n      <use transform=\"translate(0 0.09375)\" xlink:href=\"#DejaVuSans-Oblique-120\"/>\n      <use transform=\"translate(78.662109 0.09375)\" xlink:href=\"#DejaVuSans-61\"/>\n      <use transform=\"translate(181.933594 0.09375)\" xlink:href=\"#DejaVuSans-52\"/>\n     </g>\n    </g>\n   </g>\n  </g>\n </g>\n <defs>\n  <clipPath id=\"p7a3b6fc773\">\n   <rect height=\"217.44\" width=\"334.8\" x=\"50.14375\" y=\"7.2\"/>\n  </clipPath>\n </defs>\n</svg>\n"
          },
          "metadata": {
            "needs_background": "light"
          }
        }
      ]
    }
  ]
}