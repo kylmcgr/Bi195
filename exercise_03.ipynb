{
  "nbformat": 4,
  "nbformat_minor": 0,
  "metadata": {
    "colab": {
      "name": "exercise_03.ipynb",
      "provenance": []
    },
    "kernelspec": {
      "name": "python3",
      "display_name": "Python 3"
    },
    "language_info": {
      "name": "python"
    }
  },
  "cells": [
    {
      "cell_type": "code",
      "metadata": {
        "id": "2eqDT0J2lKWA"
      },
      "source": [
        "import numpy as np\n",
        "from scipy.special import factorial\n",
        "import matplotlib.pyplot as plt\n",
        "from IPython.display import set_matplotlib_formats\n",
        "set_matplotlib_formats('svg')"
      ],
      "execution_count": 1,
      "outputs": []
    },
    {
      "cell_type": "markdown",
      "metadata": {
        "id": "1EEXnTTkeRBj"
      },
      "source": [
        "Let's imagine that we are profiling a population of people. Some people are healthy, and some have covid. A priori, we don't know how many people are healthy. \n",
        "\n",
        "We want to estimate the population proportions based on the number of detected nucleocapsid counts $m$.\n",
        "\n",
        "We will model the nucleocapsid counts as Poisson distributed. We know the mean nucleocapsid counts for healthy and covid people. $\\lambda_h = .1$ and $\\lambda_c = 12$ respectevely. \n",
        "\n",
        "Therefore the whole population is a mixture of two subpopulations (healthy and covid), which justifies our use of a Poisson mixture model. The parameter $w$ represents the fraction of healthy people, and $(1 − w)$ is the fraction of covid positive people.\n",
        "\n",
        "$$P(m \\mid \\lambda_h, \\lambda_c, w) = w\\left(\\frac{e^{-\\lambda_h}\\lambda_h^m}{m!}\\right) + (1 - w)\\left(\\frac{e^{-\\lambda_c}\\lambda_c^m}{m!}\\right)$$\n"
      ]
    },
    {
      "cell_type": "code",
      "metadata": {
        "id": "c-Wm-l4NlAS1"
      },
      "source": [
        "# First let's code a generic Poisson distribution that we can reuse:\n",
        "def poisson(k, lambda_):\n",
        "  return ((np.exp(-lambda_))*(lambda_**k))/(factorial(k))"
      ],
      "execution_count": 2,
      "outputs": []
    },
    {
      "cell_type": "code",
      "metadata": {
        "id": "Tfbtw1pHlLZM"
      },
      "source": [
        "# Now we can define our Poisson Mixture model:\n",
        "def mixture_model(w, lambda_1, lambda_2, x):\n",
        "  return w*poisson(x,lambda_1) + (1-w)*poisson(x,lambda_2)"
      ],
      "execution_count": 3,
      "outputs": []
    },
    {
      "cell_type": "markdown",
      "metadata": {
        "id": "FyIxE9gWsGY9"
      },
      "source": [
        "Now, we will assume that we have a uniform prior and go directly to the likelihood maximization. Remember, we want to estimate $w$.\n",
        "\n",
        "In the case, we only observed one sample $m_1$ we have:\n",
        "\n",
        "$$\\begin{eqnarray}\n",
        "L(w \\mid m_1, \\lambda_h, \\lambda_c,) &=& \\log P(m_1 \\mid\\lambda_h, \\lambda_c, w) \\\\\n",
        "&=& \\log\\left(w\\left(\\frac{e^{-\\lambda_h}\\lambda_{h}^{m_1}}{m_1!}\\right) + (1 - w)\\left(\\frac{e^{-\\lambda_c}\\lambda_{c}^{m_1}}{m_1!}\\right)\\right)\n",
        "\\end{eqnarray}$$\n",
        "\n",
        "In general, given a set of observations $M = \\{m_i\\}$ now we want to find the posterior probability of $w$ given $M$. We consider:\n",
        "\n",
        "$$\\begin{eqnarray}\n",
        "L(w \\mid m_1, m_2, \\ldots, m_i, \\lambda_h, \\lambda_c) &=& \\log\\prod_{i}P(m_i \\mid \\lambda_h, \\lambda_c, w) \\\\\n",
        "&=& \\sum_{i} \\log P(m_i \\mid \\lambda_h, \\lambda_c, w)\\\\ \n",
        "&=& \\sum_{i} \\log\\left(w\\left(\\frac{e^{-\\lambda_h}\\lambda_{h}^{m_i}}{m_i!}\\right) + (1 - w)\\left(\\frac{e^{-\\lambda_c}\\lambda_{c}^{m_i}}{m_i!}\\right)\\right)\n",
        "\\end{eqnarray}$$\n",
        "\n",
        "Let's code the Log-likelihood function, performing the summation in a `for` loop:"
      ]
    },
    {
      "cell_type": "code",
      "metadata": {
        "id": "5RdIJF3slp-l"
      },
      "source": [
        "def log_likelihood(w, lambda_1, lambda_2, M):\n",
        "  result = 0\n",
        "  for m_i in M:\n",
        "    result += np.log(mixture_model(w,lambda_1, lambda_2, m_i))\n",
        "  return result"
      ],
      "execution_count": 4,
      "outputs": []
    },
    {
      "cell_type": "code",
      "metadata": {
        "id": "2AeKxjAsm0IN"
      },
      "source": [
        "# Our Observed Dataset\n",
        "M = [8, 0, 0, 0, 0, 7, 15, 20, 7, 0, 0, 0, 0, 0, 0]\n",
        "w = np.linspace(0,1)"
      ],
      "execution_count": 5,
      "outputs": []
    },
    {
      "cell_type": "code",
      "metadata": {
        "colab": {
          "base_uri": "https://localhost:8080/",
          "height": 387
        },
        "id": "cO9ykQ2HoI0I",
        "outputId": "c5fc80f8-e304-4ae5-8a56-1285ba8cb783"
      },
      "source": [
        "plt.plot(w, log_likelihood(w, .1, 12, M[:5]), label = 'First 5')\n",
        "plt.plot(w, log_likelihood(w, .1, 12, M[:10]), label = 'First 10')\n",
        "plt.plot(w, log_likelihood(w, .1, 12, M[:15]), label = 'First 15')\n",
        "plt.xlabel('$w$')\n",
        "plt.ylabel('$L(w \\mid \\lambda_h, \\lambda_c, \\{m_i\\})$')\n",
        "plt.legend()"
      ],
      "execution_count": 6,
      "outputs": [
        {
          "output_type": "execute_result",
          "data": {
            "text/plain": [
              "<matplotlib.legend.Legend at 0x7f974e0f22d0>"
            ]
          },
          "metadata": {},
          "execution_count": 6
        },
        {
          "output_type": "display_data",
          "data": {
            "text/plain": [
              "<Figure size 432x288 with 1 Axes>"
            ],
            "image/svg+xml": "<?xml version=\"1.0\" encoding=\"utf-8\" standalone=\"no\"?>\n<!DOCTYPE svg PUBLIC \"-//W3C//DTD SVG 1.1//EN\"\n  \"http://www.w3.org/Graphics/SVG/1.1/DTD/svg11.dtd\">\n<!-- Created with matplotlib (https://matplotlib.org/) -->\n<svg height=\"262.19625pt\" version=\"1.1\" viewBox=\"0 0 397.667187 262.19625\" width=\"397.667187pt\" xmlns=\"http://www.w3.org/2000/svg\" xmlns:xlink=\"http://www.w3.org/1999/xlink\">\n <defs>\n  <style type=\"text/css\">\n*{stroke-linecap:butt;stroke-linejoin:round;}\n  </style>\n </defs>\n <g id=\"figure_1\">\n  <g id=\"patch_1\">\n   <path d=\"M 0 262.19625 \nL 397.667187 262.19625 \nL 397.667187 0 \nL 0 0 \nz\n\" style=\"fill:none;\"/>\n  </g>\n  <g id=\"axes_1\">\n   <g id=\"patch_2\">\n    <path d=\"M 55.667188 224.64 \nL 390.467188 224.64 \nL 390.467188 7.2 \nL 55.667188 7.2 \nz\n\" style=\"fill:#ffffff;\"/>\n   </g>\n   <g id=\"matplotlib.axis_1\">\n    <g id=\"xtick_1\">\n     <g id=\"line2d_1\">\n      <defs>\n       <path d=\"M 0 0 \nL 0 3.5 \n\" id=\"m9f064899ac\" style=\"stroke:#000000;stroke-width:0.8;\"/>\n      </defs>\n      <g>\n       <use style=\"stroke:#000000;stroke-width:0.8;\" x=\"70.885369\" xlink:href=\"#m9f064899ac\" y=\"224.64\"/>\n      </g>\n     </g>\n     <g id=\"text_1\">\n      <!-- 0.0 -->\n      <defs>\n       <path d=\"M 31.78125 66.40625 \nQ 24.171875 66.40625 20.328125 58.90625 \nQ 16.5 51.421875 16.5 36.375 \nQ 16.5 21.390625 20.328125 13.890625 \nQ 24.171875 6.390625 31.78125 6.390625 \nQ 39.453125 6.390625 43.28125 13.890625 \nQ 47.125 21.390625 47.125 36.375 \nQ 47.125 51.421875 43.28125 58.90625 \nQ 39.453125 66.40625 31.78125 66.40625 \nz\nM 31.78125 74.21875 \nQ 44.046875 74.21875 50.515625 64.515625 \nQ 56.984375 54.828125 56.984375 36.375 \nQ 56.984375 17.96875 50.515625 8.265625 \nQ 44.046875 -1.421875 31.78125 -1.421875 \nQ 19.53125 -1.421875 13.0625 8.265625 \nQ 6.59375 17.96875 6.59375 36.375 \nQ 6.59375 54.828125 13.0625 64.515625 \nQ 19.53125 74.21875 31.78125 74.21875 \nz\n\" id=\"DejaVuSans-48\"/>\n       <path d=\"M 10.6875 12.40625 \nL 21 12.40625 \nL 21 0 \nL 10.6875 0 \nz\n\" id=\"DejaVuSans-46\"/>\n      </defs>\n      <g transform=\"translate(62.933807 239.238437)scale(0.1 -0.1)\">\n       <use xlink:href=\"#DejaVuSans-48\"/>\n       <use x=\"63.623047\" xlink:href=\"#DejaVuSans-46\"/>\n       <use x=\"95.410156\" xlink:href=\"#DejaVuSans-48\"/>\n      </g>\n     </g>\n    </g>\n    <g id=\"xtick_2\">\n     <g id=\"line2d_2\">\n      <g>\n       <use style=\"stroke:#000000;stroke-width:0.8;\" x=\"131.758097\" xlink:href=\"#m9f064899ac\" y=\"224.64\"/>\n      </g>\n     </g>\n     <g id=\"text_2\">\n      <!-- 0.2 -->\n      <defs>\n       <path d=\"M 19.1875 8.296875 \nL 53.609375 8.296875 \nL 53.609375 0 \nL 7.328125 0 \nL 7.328125 8.296875 \nQ 12.9375 14.109375 22.625 23.890625 \nQ 32.328125 33.6875 34.8125 36.53125 \nQ 39.546875 41.84375 41.421875 45.53125 \nQ 43.3125 49.21875 43.3125 52.78125 \nQ 43.3125 58.59375 39.234375 62.25 \nQ 35.15625 65.921875 28.609375 65.921875 \nQ 23.96875 65.921875 18.8125 64.3125 \nQ 13.671875 62.703125 7.8125 59.421875 \nL 7.8125 69.390625 \nQ 13.765625 71.78125 18.9375 73 \nQ 24.125 74.21875 28.421875 74.21875 \nQ 39.75 74.21875 46.484375 68.546875 \nQ 53.21875 62.890625 53.21875 53.421875 \nQ 53.21875 48.921875 51.53125 44.890625 \nQ 49.859375 40.875 45.40625 35.40625 \nQ 44.1875 33.984375 37.640625 27.21875 \nQ 31.109375 20.453125 19.1875 8.296875 \nz\n\" id=\"DejaVuSans-50\"/>\n      </defs>\n      <g transform=\"translate(123.806534 239.238437)scale(0.1 -0.1)\">\n       <use xlink:href=\"#DejaVuSans-48\"/>\n       <use x=\"63.623047\" xlink:href=\"#DejaVuSans-46\"/>\n       <use x=\"95.410156\" xlink:href=\"#DejaVuSans-50\"/>\n      </g>\n     </g>\n    </g>\n    <g id=\"xtick_3\">\n     <g id=\"line2d_3\">\n      <g>\n       <use style=\"stroke:#000000;stroke-width:0.8;\" x=\"192.630824\" xlink:href=\"#m9f064899ac\" y=\"224.64\"/>\n      </g>\n     </g>\n     <g id=\"text_3\">\n      <!-- 0.4 -->\n      <defs>\n       <path d=\"M 37.796875 64.3125 \nL 12.890625 25.390625 \nL 37.796875 25.390625 \nz\nM 35.203125 72.90625 \nL 47.609375 72.90625 \nL 47.609375 25.390625 \nL 58.015625 25.390625 \nL 58.015625 17.1875 \nL 47.609375 17.1875 \nL 47.609375 0 \nL 37.796875 0 \nL 37.796875 17.1875 \nL 4.890625 17.1875 \nL 4.890625 26.703125 \nz\n\" id=\"DejaVuSans-52\"/>\n      </defs>\n      <g transform=\"translate(184.679261 239.238437)scale(0.1 -0.1)\">\n       <use xlink:href=\"#DejaVuSans-48\"/>\n       <use x=\"63.623047\" xlink:href=\"#DejaVuSans-46\"/>\n       <use x=\"95.410156\" xlink:href=\"#DejaVuSans-52\"/>\n      </g>\n     </g>\n    </g>\n    <g id=\"xtick_4\">\n     <g id=\"line2d_4\">\n      <g>\n       <use style=\"stroke:#000000;stroke-width:0.8;\" x=\"253.503551\" xlink:href=\"#m9f064899ac\" y=\"224.64\"/>\n      </g>\n     </g>\n     <g id=\"text_4\">\n      <!-- 0.6 -->\n      <defs>\n       <path d=\"M 33.015625 40.375 \nQ 26.375 40.375 22.484375 35.828125 \nQ 18.609375 31.296875 18.609375 23.390625 \nQ 18.609375 15.53125 22.484375 10.953125 \nQ 26.375 6.390625 33.015625 6.390625 \nQ 39.65625 6.390625 43.53125 10.953125 \nQ 47.40625 15.53125 47.40625 23.390625 \nQ 47.40625 31.296875 43.53125 35.828125 \nQ 39.65625 40.375 33.015625 40.375 \nz\nM 52.59375 71.296875 \nL 52.59375 62.3125 \nQ 48.875 64.0625 45.09375 64.984375 \nQ 41.3125 65.921875 37.59375 65.921875 \nQ 27.828125 65.921875 22.671875 59.328125 \nQ 17.53125 52.734375 16.796875 39.40625 \nQ 19.671875 43.65625 24.015625 45.921875 \nQ 28.375 48.1875 33.59375 48.1875 \nQ 44.578125 48.1875 50.953125 41.515625 \nQ 57.328125 34.859375 57.328125 23.390625 \nQ 57.328125 12.15625 50.6875 5.359375 \nQ 44.046875 -1.421875 33.015625 -1.421875 \nQ 20.359375 -1.421875 13.671875 8.265625 \nQ 6.984375 17.96875 6.984375 36.375 \nQ 6.984375 53.65625 15.1875 63.9375 \nQ 23.390625 74.21875 37.203125 74.21875 \nQ 40.921875 74.21875 44.703125 73.484375 \nQ 48.484375 72.75 52.59375 71.296875 \nz\n\" id=\"DejaVuSans-54\"/>\n      </defs>\n      <g transform=\"translate(245.551989 239.238437)scale(0.1 -0.1)\">\n       <use xlink:href=\"#DejaVuSans-48\"/>\n       <use x=\"63.623047\" xlink:href=\"#DejaVuSans-46\"/>\n       <use x=\"95.410156\" xlink:href=\"#DejaVuSans-54\"/>\n      </g>\n     </g>\n    </g>\n    <g id=\"xtick_5\">\n     <g id=\"line2d_5\">\n      <g>\n       <use style=\"stroke:#000000;stroke-width:0.8;\" x=\"314.376278\" xlink:href=\"#m9f064899ac\" y=\"224.64\"/>\n      </g>\n     </g>\n     <g id=\"text_5\">\n      <!-- 0.8 -->\n      <defs>\n       <path d=\"M 31.78125 34.625 \nQ 24.75 34.625 20.71875 30.859375 \nQ 16.703125 27.09375 16.703125 20.515625 \nQ 16.703125 13.921875 20.71875 10.15625 \nQ 24.75 6.390625 31.78125 6.390625 \nQ 38.8125 6.390625 42.859375 10.171875 \nQ 46.921875 13.96875 46.921875 20.515625 \nQ 46.921875 27.09375 42.890625 30.859375 \nQ 38.875 34.625 31.78125 34.625 \nz\nM 21.921875 38.8125 \nQ 15.578125 40.375 12.03125 44.71875 \nQ 8.5 49.078125 8.5 55.328125 \nQ 8.5 64.0625 14.71875 69.140625 \nQ 20.953125 74.21875 31.78125 74.21875 \nQ 42.671875 74.21875 48.875 69.140625 \nQ 55.078125 64.0625 55.078125 55.328125 \nQ 55.078125 49.078125 51.53125 44.71875 \nQ 48 40.375 41.703125 38.8125 \nQ 48.828125 37.15625 52.796875 32.3125 \nQ 56.78125 27.484375 56.78125 20.515625 \nQ 56.78125 9.90625 50.3125 4.234375 \nQ 43.84375 -1.421875 31.78125 -1.421875 \nQ 19.734375 -1.421875 13.25 4.234375 \nQ 6.78125 9.90625 6.78125 20.515625 \nQ 6.78125 27.484375 10.78125 32.3125 \nQ 14.796875 37.15625 21.921875 38.8125 \nz\nM 18.3125 54.390625 \nQ 18.3125 48.734375 21.84375 45.5625 \nQ 25.390625 42.390625 31.78125 42.390625 \nQ 38.140625 42.390625 41.71875 45.5625 \nQ 45.3125 48.734375 45.3125 54.390625 \nQ 45.3125 60.0625 41.71875 63.234375 \nQ 38.140625 66.40625 31.78125 66.40625 \nQ 25.390625 66.40625 21.84375 63.234375 \nQ 18.3125 60.0625 18.3125 54.390625 \nz\n\" id=\"DejaVuSans-56\"/>\n      </defs>\n      <g transform=\"translate(306.424716 239.238437)scale(0.1 -0.1)\">\n       <use xlink:href=\"#DejaVuSans-48\"/>\n       <use x=\"63.623047\" xlink:href=\"#DejaVuSans-46\"/>\n       <use x=\"95.410156\" xlink:href=\"#DejaVuSans-56\"/>\n      </g>\n     </g>\n    </g>\n    <g id=\"xtick_6\">\n     <g id=\"line2d_6\">\n      <g>\n       <use style=\"stroke:#000000;stroke-width:0.8;\" x=\"375.249006\" xlink:href=\"#m9f064899ac\" y=\"224.64\"/>\n      </g>\n     </g>\n     <g id=\"text_6\">\n      <!-- 1.0 -->\n      <defs>\n       <path d=\"M 12.40625 8.296875 \nL 28.515625 8.296875 \nL 28.515625 63.921875 \nL 10.984375 60.40625 \nL 10.984375 69.390625 \nL 28.421875 72.90625 \nL 38.28125 72.90625 \nL 38.28125 8.296875 \nL 54.390625 8.296875 \nL 54.390625 0 \nL 12.40625 0 \nz\n\" id=\"DejaVuSans-49\"/>\n      </defs>\n      <g transform=\"translate(367.297443 239.238437)scale(0.1 -0.1)\">\n       <use xlink:href=\"#DejaVuSans-49\"/>\n       <use x=\"63.623047\" xlink:href=\"#DejaVuSans-46\"/>\n       <use x=\"95.410156\" xlink:href=\"#DejaVuSans-48\"/>\n      </g>\n     </g>\n    </g>\n    <g id=\"text_7\">\n     <!-- $w$ -->\n     <defs>\n      <path d=\"M 8.5 54.6875 \nL 17.390625 54.6875 \nL 19.671875 10.6875 \nL 40.09375 54.6875 \nL 50.484375 54.6875 \nL 53.515625 10.6875 \nL 72.90625 54.6875 \nL 81.890625 54.6875 \nL 56.890625 0 \nL 46.390625 0 \nL 43.703125 45.3125 \nL 22.796875 0 \nL 12.203125 0 \nz\n\" id=\"DejaVuSans-Oblique-119\"/>\n     </defs>\n     <g transform=\"translate(218.967188 252.916562)scale(0.1 -0.1)\">\n      <use transform=\"translate(0 0.3125)\" xlink:href=\"#DejaVuSans-Oblique-119\"/>\n     </g>\n    </g>\n   </g>\n   <g id=\"matplotlib.axis_2\">\n    <g id=\"ytick_1\">\n     <g id=\"line2d_7\">\n      <defs>\n       <path d=\"M 0 0 \nL -3.5 0 \n\" id=\"md57c7dd055\" style=\"stroke:#000000;stroke-width:0.8;\"/>\n      </defs>\n      <g>\n       <use style=\"stroke:#000000;stroke-width:0.8;\" x=\"55.667188\" xlink:href=\"#md57c7dd055\" y=\"187.841365\"/>\n      </g>\n     </g>\n     <g id=\"text_8\">\n      <!-- −200 -->\n      <defs>\n       <path d=\"M 10.59375 35.5 \nL 73.1875 35.5 \nL 73.1875 27.203125 \nL 10.59375 27.203125 \nz\n\" id=\"DejaVuSans-8722\"/>\n      </defs>\n      <g transform=\"translate(21.2 191.640584)scale(0.1 -0.1)\">\n       <use xlink:href=\"#DejaVuSans-8722\"/>\n       <use x=\"83.789062\" xlink:href=\"#DejaVuSans-50\"/>\n       <use x=\"147.412109\" xlink:href=\"#DejaVuSans-48\"/>\n       <use x=\"211.035156\" xlink:href=\"#DejaVuSans-48\"/>\n      </g>\n     </g>\n    </g>\n    <g id=\"ytick_2\">\n     <g id=\"line2d_8\">\n      <g>\n       <use style=\"stroke:#000000;stroke-width:0.8;\" x=\"55.667188\" xlink:href=\"#md57c7dd055\" y=\"143.915957\"/>\n      </g>\n     </g>\n     <g id=\"text_9\">\n      <!-- −150 -->\n      <defs>\n       <path d=\"M 10.796875 72.90625 \nL 49.515625 72.90625 \nL 49.515625 64.59375 \nL 19.828125 64.59375 \nL 19.828125 46.734375 \nQ 21.96875 47.46875 24.109375 47.828125 \nQ 26.265625 48.1875 28.421875 48.1875 \nQ 40.625 48.1875 47.75 41.5 \nQ 54.890625 34.8125 54.890625 23.390625 \nQ 54.890625 11.625 47.5625 5.09375 \nQ 40.234375 -1.421875 26.90625 -1.421875 \nQ 22.3125 -1.421875 17.546875 -0.640625 \nQ 12.796875 0.140625 7.71875 1.703125 \nL 7.71875 11.625 \nQ 12.109375 9.234375 16.796875 8.0625 \nQ 21.484375 6.890625 26.703125 6.890625 \nQ 35.15625 6.890625 40.078125 11.328125 \nQ 45.015625 15.765625 45.015625 23.390625 \nQ 45.015625 31 40.078125 35.4375 \nQ 35.15625 39.890625 26.703125 39.890625 \nQ 22.75 39.890625 18.8125 39.015625 \nQ 14.890625 38.140625 10.796875 36.28125 \nz\n\" id=\"DejaVuSans-53\"/>\n      </defs>\n      <g transform=\"translate(21.2 147.715176)scale(0.1 -0.1)\">\n       <use xlink:href=\"#DejaVuSans-8722\"/>\n       <use x=\"83.789062\" xlink:href=\"#DejaVuSans-49\"/>\n       <use x=\"147.412109\" xlink:href=\"#DejaVuSans-53\"/>\n       <use x=\"211.035156\" xlink:href=\"#DejaVuSans-48\"/>\n      </g>\n     </g>\n    </g>\n    <g id=\"ytick_3\">\n     <g id=\"line2d_9\">\n      <g>\n       <use style=\"stroke:#000000;stroke-width:0.8;\" x=\"55.667188\" xlink:href=\"#md57c7dd055\" y=\"99.990549\"/>\n      </g>\n     </g>\n     <g id=\"text_10\">\n      <!-- −100 -->\n      <g transform=\"translate(21.2 103.789768)scale(0.1 -0.1)\">\n       <use xlink:href=\"#DejaVuSans-8722\"/>\n       <use x=\"83.789062\" xlink:href=\"#DejaVuSans-49\"/>\n       <use x=\"147.412109\" xlink:href=\"#DejaVuSans-48\"/>\n       <use x=\"211.035156\" xlink:href=\"#DejaVuSans-48\"/>\n      </g>\n     </g>\n    </g>\n    <g id=\"ytick_4\">\n     <g id=\"line2d_10\">\n      <g>\n       <use style=\"stroke:#000000;stroke-width:0.8;\" x=\"55.667188\" xlink:href=\"#md57c7dd055\" y=\"56.065141\"/>\n      </g>\n     </g>\n     <g id=\"text_11\">\n      <!-- −50 -->\n      <g transform=\"translate(27.5625 59.86436)scale(0.1 -0.1)\">\n       <use xlink:href=\"#DejaVuSans-8722\"/>\n       <use x=\"83.789062\" xlink:href=\"#DejaVuSans-53\"/>\n       <use x=\"147.412109\" xlink:href=\"#DejaVuSans-48\"/>\n      </g>\n     </g>\n    </g>\n    <g id=\"ytick_5\">\n     <g id=\"line2d_11\">\n      <g>\n       <use style=\"stroke:#000000;stroke-width:0.8;\" x=\"55.667188\" xlink:href=\"#md57c7dd055\" y=\"12.139733\"/>\n      </g>\n     </g>\n     <g id=\"text_12\">\n      <!-- 0 -->\n      <g transform=\"translate(42.304688 15.938952)scale(0.1 -0.1)\">\n       <use xlink:href=\"#DejaVuSans-48\"/>\n      </g>\n     </g>\n    </g>\n    <g id=\"text_13\">\n     <!-- $L(w \\mid \\lambda_h, \\lambda_c, \\{m_i\\})$ -->\n     <defs>\n      <path d=\"M 16.796875 72.90625 \nL 26.703125 72.90625 \nL 14.203125 8.203125 \nL 49.703125 8.203125 \nL 48.09375 0 \nL 2.6875 0 \nz\n\" id=\"DejaVuSans-Oblique-76\"/>\n      <path d=\"M 31 75.875 \nQ 24.46875 64.65625 21.28125 53.65625 \nQ 18.109375 42.671875 18.109375 31.390625 \nQ 18.109375 20.125 21.3125 9.0625 \nQ 24.515625 -2 31 -13.1875 \nL 23.1875 -13.1875 \nQ 15.875 -1.703125 12.234375 9.375 \nQ 8.59375 20.453125 8.59375 31.390625 \nQ 8.59375 42.28125 12.203125 53.3125 \nQ 15.828125 64.359375 23.1875 75.875 \nz\n\" id=\"DejaVuSans-40\"/>\n      <path d=\"M 21.09375 77.09375 \nL 28.90625 77.09375 \nL 28.90625 -21.390625 \nL 21.09375 -21.390625 \nz\n\" id=\"DejaVuSans-8739\"/>\n      <path d=\"M 36.71875 67.4375 \nL 48.828125 0 \nL 39.3125 0 \nL 31.84375 40.4375 \nL 5.125 0 \nL -4.390625 0 \nL 29.734375 52.4375 \nL 28.03125 62.109375 \nQ 26.953125 68.265625 21.734375 68.265625 \nL 17.046875 68.265625 \nL 18.5 75.984375 \nL 24.21875 75.875 \nQ 35.203125 75.734375 36.71875 67.4375 \nz\n\" id=\"DejaVuSans-Oblique-955\"/>\n      <path d=\"M 55.71875 33.015625 \nL 49.3125 0 \nL 40.28125 0 \nL 46.6875 32.671875 \nQ 47.125 34.96875 47.359375 36.71875 \nQ 47.609375 38.484375 47.609375 39.5 \nQ 47.609375 43.609375 45.015625 45.890625 \nQ 42.4375 48.1875 37.796875 48.1875 \nQ 30.5625 48.1875 25.265625 43.296875 \nQ 19.96875 38.421875 18.40625 30.328125 \nL 12.5 0 \nL 3.515625 0 \nL 18.3125 75.984375 \nL 27.296875 75.984375 \nL 21.484375 46.09375 \nQ 24.90625 50.6875 30.21875 53.34375 \nQ 35.546875 56 41.40625 56 \nQ 48.640625 56 52.609375 52.09375 \nQ 56.59375 48.1875 56.59375 41.109375 \nQ 56.59375 39.359375 56.375 37.359375 \nQ 56.15625 35.359375 55.71875 33.015625 \nz\n\" id=\"DejaVuSans-Oblique-104\"/>\n      <path d=\"M 11.71875 12.40625 \nL 22.015625 12.40625 \nL 22.015625 4 \nL 14.015625 -11.625 \nL 7.71875 -11.625 \nL 11.71875 4 \nz\n\" id=\"DejaVuSans-44\"/>\n      <path d=\"M 53.609375 52.59375 \nL 51.8125 43.703125 \nQ 48.578125 46.046875 44.9375 47.21875 \nQ 41.3125 48.390625 37.40625 48.390625 \nQ 33.109375 48.390625 29.21875 46.875 \nQ 25.34375 45.359375 22.703125 42.578125 \nQ 18.5 38.328125 16.203125 32.609375 \nQ 13.921875 26.90625 13.921875 20.796875 \nQ 13.921875 13.421875 17.609375 9.8125 \nQ 21.296875 6.203125 28.8125 6.203125 \nQ 32.515625 6.203125 36.6875 7.328125 \nQ 40.875 8.453125 45.40625 10.6875 \nL 43.703125 1.8125 \nQ 39.796875 0.203125 35.671875 -0.609375 \nQ 31.546875 -1.421875 27.203125 -1.421875 \nQ 16.3125 -1.421875 10.453125 4.015625 \nQ 4.59375 9.46875 4.59375 19.578125 \nQ 4.59375 28.078125 7.640625 35.234375 \nQ 10.6875 42.390625 16.703125 48.09375 \nQ 20.796875 52 26.3125 54 \nQ 31.84375 56 38.375 56 \nQ 42.1875 56 45.9375 55.140625 \nQ 49.703125 54.296875 53.609375 52.59375 \nz\n\" id=\"DejaVuSans-Oblique-99\"/>\n      <path d=\"M 51.125 -9.28125 \nL 51.125 -16.3125 \nL 48.09375 -16.3125 \nQ 35.9375 -16.3125 31.8125 -12.6875 \nQ 27.6875 -9.078125 27.6875 1.703125 \nL 27.6875 13.375 \nQ 27.6875 20.75 25.046875 23.578125 \nQ 22.40625 26.421875 15.484375 26.421875 \nL 12.5 26.421875 \nL 12.5 33.40625 \nL 15.484375 33.40625 \nQ 22.46875 33.40625 25.078125 36.203125 \nQ 27.6875 39.015625 27.6875 46.296875 \nL 27.6875 58.015625 \nQ 27.6875 68.796875 31.8125 72.390625 \nQ 35.9375 75.984375 48.09375 75.984375 \nL 51.125 75.984375 \nL 51.125 69 \nL 47.796875 69 \nQ 40.921875 69 38.8125 66.84375 \nQ 36.71875 64.703125 36.71875 57.8125 \nL 36.71875 45.703125 \nQ 36.71875 38.03125 34.5 34.5625 \nQ 32.28125 31.109375 26.90625 29.890625 \nQ 32.328125 28.5625 34.515625 25.09375 \nQ 36.71875 21.625 36.71875 14.015625 \nL 36.71875 1.90625 \nQ 36.71875 -4.984375 38.8125 -7.125 \nQ 40.921875 -9.28125 47.796875 -9.28125 \nz\n\" id=\"DejaVuSans-123\"/>\n      <path d=\"M 89.796875 33.015625 \nL 83.40625 0 \nL 74.421875 0 \nL 80.71875 32.71875 \nQ 81.109375 34.8125 81.296875 36.328125 \nQ 81.5 37.84375 81.5 38.921875 \nQ 81.5 43.3125 79.046875 45.75 \nQ 76.609375 48.1875 72.21875 48.1875 \nQ 65.671875 48.1875 60.546875 43.28125 \nQ 55.421875 38.375 53.90625 30.515625 \nL 47.90625 0 \nL 38.921875 0 \nL 45.3125 32.71875 \nQ 45.703125 34.515625 45.890625 36.046875 \nQ 46.09375 37.59375 46.09375 38.8125 \nQ 46.09375 43.265625 43.65625 45.71875 \nQ 41.21875 48.1875 36.921875 48.1875 \nQ 30.28125 48.1875 25.140625 43.28125 \nQ 20.015625 38.375 18.5 30.515625 \nL 12.5 0 \nL 3.515625 0 \nL 14.203125 54.6875 \nL 23.1875 54.6875 \nL 21.484375 46.1875 \nQ 25.140625 50.984375 30.046875 53.484375 \nQ 34.96875 56 40.578125 56 \nQ 46.53125 56 50.359375 52.875 \nQ 54.203125 49.75 54.984375 44.1875 \nQ 59.078125 49.953125 64.46875 52.96875 \nQ 69.875 56 75.875 56 \nQ 82.90625 56 86.734375 51.953125 \nQ 90.578125 47.90625 90.578125 40.484375 \nQ 90.578125 38.875 90.375 36.9375 \nQ 90.1875 35.015625 89.796875 33.015625 \nz\n\" id=\"DejaVuSans-Oblique-109\"/>\n      <path d=\"M 18.3125 75.984375 \nL 27.296875 75.984375 \nL 25.09375 64.59375 \nL 16.109375 64.59375 \nz\nM 14.203125 54.6875 \nL 23.1875 54.6875 \nL 12.5 0 \nL 3.515625 0 \nz\n\" id=\"DejaVuSans-Oblique-105\"/>\n      <path d=\"M 12.5 -9.28125 \nL 15.921875 -9.28125 \nQ 22.75 -9.28125 24.828125 -7.171875 \nQ 26.90625 -5.078125 26.90625 1.90625 \nL 26.90625 14.015625 \nQ 26.90625 21.625 29.09375 25.09375 \nQ 31.296875 28.5625 36.71875 29.890625 \nQ 31.296875 31.109375 29.09375 34.5625 \nQ 26.90625 38.03125 26.90625 45.703125 \nL 26.90625 57.8125 \nQ 26.90625 64.75 24.828125 66.875 \nQ 22.75 69 15.921875 69 \nL 12.5 69 \nL 12.5 75.984375 \nL 15.578125 75.984375 \nQ 27.734375 75.984375 31.8125 72.390625 \nQ 35.890625 68.796875 35.890625 58.015625 \nL 35.890625 46.296875 \nQ 35.890625 39.015625 38.515625 36.203125 \nQ 41.15625 33.40625 48.09375 33.40625 \nL 51.125 33.40625 \nL 51.125 26.421875 \nL 48.09375 26.421875 \nQ 41.15625 26.421875 38.515625 23.578125 \nQ 35.890625 20.75 35.890625 13.375 \nL 35.890625 1.703125 \nQ 35.890625 -9.078125 31.8125 -12.6875 \nQ 27.734375 -16.3125 15.578125 -16.3125 \nL 12.5 -16.3125 \nz\n\" id=\"DejaVuSans-125\"/>\n      <path d=\"M 8.015625 75.875 \nL 15.828125 75.875 \nQ 23.140625 64.359375 26.78125 53.3125 \nQ 30.421875 42.28125 30.421875 31.390625 \nQ 30.421875 20.453125 26.78125 9.375 \nQ 23.140625 -1.703125 15.828125 -13.1875 \nL 8.015625 -13.1875 \nQ 14.5 -2 17.703125 9.0625 \nQ 20.90625 20.125 20.90625 31.390625 \nQ 20.90625 42.671875 17.703125 53.65625 \nQ 14.5 64.65625 8.015625 75.875 \nz\n\" id=\"DejaVuSans-41\"/>\n     </defs>\n     <g transform=\"translate(15 158.97)rotate(-90)scale(0.1 -0.1)\">\n      <use transform=\"translate(0 0.90625)\" xlink:href=\"#DejaVuSans-Oblique-76\"/>\n      <use transform=\"translate(55.712891 0.90625)\" xlink:href=\"#DejaVuSans-40\"/>\n      <use transform=\"translate(94.726562 0.90625)\" xlink:href=\"#DejaVuSans-Oblique-119\"/>\n      <use transform=\"translate(195.996094 0.90625)\" xlink:href=\"#DejaVuSans-8739\"/>\n      <use transform=\"translate(265.478516 0.90625)\" xlink:href=\"#DejaVuSans-Oblique-955\"/>\n      <use transform=\"translate(324.658203 -15.5)scale(0.7)\" xlink:href=\"#DejaVuSans-Oblique-104\"/>\n      <use transform=\"translate(371.757812 0.90625)\" xlink:href=\"#DejaVuSans-44\"/>\n      <use transform=\"translate(423.027344 0.90625)\" xlink:href=\"#DejaVuSans-Oblique-955\"/>\n      <use transform=\"translate(482.207031 -15.5)scale(0.7)\" xlink:href=\"#DejaVuSans-Oblique-99\"/>\n      <use transform=\"translate(523.427734 0.90625)\" xlink:href=\"#DejaVuSans-44\"/>\n      <use transform=\"translate(574.697266 0.90625)\" xlink:href=\"#DejaVuSans-123\"/>\n      <use transform=\"translate(638.320312 0.90625)\" xlink:href=\"#DejaVuSans-Oblique-109\"/>\n      <use transform=\"translate(735.732422 -15.5)scale(0.7)\" xlink:href=\"#DejaVuSans-Oblique-105\"/>\n      <use transform=\"translate(757.915039 0.90625)\" xlink:href=\"#DejaVuSans-125\"/>\n      <use transform=\"translate(821.538086 0.90625)\" xlink:href=\"#DejaVuSans-41\"/>\n     </g>\n    </g>\n   </g>\n   <g id=\"line2d_12\">\n    <path clip-path=\"url(#pf42b1e531e)\" d=\"M 70.885369 56.702367 \nL 77.096872 28.578331 \nL 83.308375 26.161669 \nL 89.519878 24.755939 \nL 95.73138 23.764421 \nL 101.942883 23.000089 \nL 108.154386 22.37964 \nL 114.365889 21.858649 \nL 120.577392 21.410606 \nL 126.788894 21.018422 \nL 133.000397 20.670436 \nL 139.2119 20.358344 \nL 145.423403 20.07602 \nL 151.634905 19.818825 \nL 157.846408 19.583162 \nL 164.057911 19.36619 \nL 170.269414 19.165631 \nL 176.480917 18.979631 \nL 182.692419 18.80667 \nL 188.903922 18.645485 \nL 195.115425 18.495025 \nL 201.326928 18.354406 \nL 207.538431 18.222885 \nL 213.749933 18.099837 \nL 219.961436 17.984739 \nL 226.172939 17.877154 \nL 232.384442 17.776722 \nL 238.595944 17.683154 \nL 244.807447 17.596226 \nL 251.01895 17.515778 \nL 257.230453 17.44171 \nL 263.441956 17.373985 \nL 269.653458 17.312635 \nL 275.864961 17.257762 \nL 282.076464 17.209557 \nL 288.287967 17.168305 \nL 294.49947 17.134417 \nL 300.710972 17.108456 \nL 306.922475 17.091184 \nL 313.133978 17.083636 \nL 319.345481 17.08723 \nL 325.556983 17.103933 \nL 331.768486 17.136563 \nL 337.979989 17.189299 \nL 344.191492 17.268685 \nL 350.402995 17.385748 \nL 356.614497 17.561245 \nL 362.826 17.841877 \nL 369.037503 18.37683 \nL 375.249006 38.077935 \n\" style=\"fill:none;stroke:#1f77b4;stroke-linecap:square;stroke-width:1.5;\"/>\n   </g>\n   <g id=\"line2d_13\">\n    <path clip-path=\"url(#pf42b1e531e)\" d=\"M 70.885369 79.126098 \nL 77.096872 44.038982 \nL 83.308375 41.087513 \nL 89.519878 39.401201 \nL 95.73138 38.234211 \nL 101.942883 37.35283 \nL 108.154386 36.653006 \nL 114.365889 36.079287 \nL 120.577392 35.59862 \nL 126.788894 35.189737 \nL 133.000397 34.838162 \nL 139.2119 34.53362 \nL 145.423403 34.268571 \nL 151.634905 34.037341 \nL 157.846408 33.835569 \nL 164.057911 33.65985 \nL 170.269414 33.507499 \nL 176.480917 33.376374 \nL 182.692419 33.264765 \nL 188.903922 33.171308 \nL 195.115425 33.094918 \nL 201.326928 33.034748 \nL 207.538431 32.990157 \nL 213.749933 32.96068 \nL 219.961436 32.946016 \nL 226.172939 32.946018 \nL 232.384442 32.960687 \nL 238.595944 32.990169 \nL 244.807447 33.034766 \nL 251.01895 33.09494 \nL 257.230453 33.171336 \nL 263.441956 33.264799 \nL 269.653458 33.376414 \nL 275.864961 33.507546 \nL 282.076464 33.659905 \nL 288.287967 33.835631 \nL 294.49947 34.037413 \nL 300.710972 34.268654 \nL 306.922475 34.533714 \nL 313.133978 34.838271 \nL 319.345481 35.189863 \nL 325.556983 35.598767 \nL 331.768486 36.079461 \nL 337.979989 36.653216 \nL 344.191492 37.353089 \nL 350.402995 38.234544 \nL 356.614497 39.401657 \nL 362.826 41.088213 \nL 369.037503 44.040413 \nL 375.249006 214.31711 \n\" style=\"fill:none;stroke:#ff7f0e;stroke-linecap:square;stroke-width:1.5;\"/>\n   </g>\n   <g id=\"line2d_14\">\n    <path clip-path=\"url(#pf42b1e531e)\" d=\"M 70.885369 131.836588 \nL 77.096872 61.571784 \nL 83.308375 55.576368 \nL 89.519878 52.109278 \nL 95.73138 49.678755 \nL 101.942883 47.817279 \nL 108.154386 46.316649 \nL 114.365889 45.065851 \nL 120.577392 43.998669 \nL 126.788894 43.072439 \nL 133.000397 42.25808 \nL 139.2119 41.534898 \nL 145.423403 40.887659 \nL 151.634905 40.304847 \nL 157.846408 39.777561 \nL 164.057911 39.298795 \nL 170.269414 38.862962 \nL 176.480917 38.465546 \nL 182.692419 38.102872 \nL 188.903922 37.771926 \nL 195.115425 37.470232 \nL 201.326928 37.195753 \nL 207.538431 36.946824 \nL 213.749933 36.722093 \nL 219.961436 36.520487 \nL 226.172939 36.34118 \nL 232.384442 36.183572 \nL 238.595944 36.047281 \nL 244.807447 35.932133 \nL 251.01895 35.838169 \nL 257.230453 35.765652 \nL 263.441956 35.715087 \nL 269.653458 35.687245 \nL 275.864961 35.683213 \nL 282.076464 35.704443 \nL 288.287967 35.752841 \nL 294.49947 35.830883 \nL 300.710972 35.941773 \nL 306.922475 36.089694 \nL 313.133978 36.280153 \nL 319.345481 36.520536 \nL 325.556983 36.820978 \nL 331.768486 37.195823 \nL 337.979989 37.66622 \nL 344.191492 38.265112 \nL 350.402995 39.047855 \nL 356.614497 40.118425 \nL 362.826 41.710514 \nL 369.037503 44.570237 \nL 375.249006 214.756364 \n\" style=\"fill:none;stroke:#2ca02c;stroke-linecap:square;stroke-width:1.5;\"/>\n   </g>\n   <g id=\"patch_3\">\n    <path d=\"M 55.667188 224.64 \nL 55.667188 7.2 \n\" style=\"fill:none;stroke:#000000;stroke-linecap:square;stroke-linejoin:miter;stroke-width:0.8;\"/>\n   </g>\n   <g id=\"patch_4\">\n    <path d=\"M 390.467188 224.64 \nL 390.467188 7.2 \n\" style=\"fill:none;stroke:#000000;stroke-linecap:square;stroke-linejoin:miter;stroke-width:0.8;\"/>\n   </g>\n   <g id=\"patch_5\">\n    <path d=\"M 55.667188 224.64 \nL 390.467188 224.64 \n\" style=\"fill:none;stroke:#000000;stroke-linecap:square;stroke-linejoin:miter;stroke-width:0.8;\"/>\n   </g>\n   <g id=\"patch_6\">\n    <path d=\"M 55.667188 7.2 \nL 390.467188 7.2 \n\" style=\"fill:none;stroke:#000000;stroke-linecap:square;stroke-linejoin:miter;stroke-width:0.8;\"/>\n   </g>\n   <g id=\"legend_1\">\n    <g id=\"patch_7\">\n     <path d=\"M 62.667188 219.64 \nL 131.615625 219.64 \nQ 133.615625 219.64 133.615625 217.64 \nL 133.615625 174.605625 \nQ 133.615625 172.605625 131.615625 172.605625 \nL 62.667188 172.605625 \nQ 60.667188 172.605625 60.667188 174.605625 \nL 60.667188 217.64 \nQ 60.667188 219.64 62.667188 219.64 \nz\n\" style=\"fill:#ffffff;opacity:0.8;stroke:#cccccc;stroke-linejoin:miter;\"/>\n    </g>\n    <g id=\"line2d_15\">\n     <path d=\"M 64.667188 180.704062 \nL 84.667188 180.704062 \n\" style=\"fill:none;stroke:#1f77b4;stroke-linecap:square;stroke-width:1.5;\"/>\n    </g>\n    <g id=\"line2d_16\"/>\n    <g id=\"text_14\">\n     <!-- First 5 -->\n     <defs>\n      <path d=\"M 9.8125 72.90625 \nL 51.703125 72.90625 \nL 51.703125 64.59375 \nL 19.671875 64.59375 \nL 19.671875 43.109375 \nL 48.578125 43.109375 \nL 48.578125 34.8125 \nL 19.671875 34.8125 \nL 19.671875 0 \nL 9.8125 0 \nz\n\" id=\"DejaVuSans-70\"/>\n      <path d=\"M 9.421875 54.6875 \nL 18.40625 54.6875 \nL 18.40625 0 \nL 9.421875 0 \nz\nM 9.421875 75.984375 \nL 18.40625 75.984375 \nL 18.40625 64.59375 \nL 9.421875 64.59375 \nz\n\" id=\"DejaVuSans-105\"/>\n      <path d=\"M 41.109375 46.296875 \nQ 39.59375 47.171875 37.8125 47.578125 \nQ 36.03125 48 33.890625 48 \nQ 26.265625 48 22.1875 43.046875 \nQ 18.109375 38.09375 18.109375 28.8125 \nL 18.109375 0 \nL 9.078125 0 \nL 9.078125 54.6875 \nL 18.109375 54.6875 \nL 18.109375 46.1875 \nQ 20.953125 51.171875 25.484375 53.578125 \nQ 30.03125 56 36.53125 56 \nQ 37.453125 56 38.578125 55.875 \nQ 39.703125 55.765625 41.0625 55.515625 \nz\n\" id=\"DejaVuSans-114\"/>\n      <path d=\"M 44.28125 53.078125 \nL 44.28125 44.578125 \nQ 40.484375 46.53125 36.375 47.5 \nQ 32.28125 48.484375 27.875 48.484375 \nQ 21.1875 48.484375 17.84375 46.4375 \nQ 14.5 44.390625 14.5 40.28125 \nQ 14.5 37.15625 16.890625 35.375 \nQ 19.28125 33.59375 26.515625 31.984375 \nL 29.59375 31.296875 \nQ 39.15625 29.25 43.1875 25.515625 \nQ 47.21875 21.78125 47.21875 15.09375 \nQ 47.21875 7.46875 41.1875 3.015625 \nQ 35.15625 -1.421875 24.609375 -1.421875 \nQ 20.21875 -1.421875 15.453125 -0.5625 \nQ 10.6875 0.296875 5.421875 2 \nL 5.421875 11.28125 \nQ 10.40625 8.6875 15.234375 7.390625 \nQ 20.0625 6.109375 24.8125 6.109375 \nQ 31.15625 6.109375 34.5625 8.28125 \nQ 37.984375 10.453125 37.984375 14.40625 \nQ 37.984375 18.0625 35.515625 20.015625 \nQ 33.0625 21.96875 24.703125 23.78125 \nL 21.578125 24.515625 \nQ 13.234375 26.265625 9.515625 29.90625 \nQ 5.8125 33.546875 5.8125 39.890625 \nQ 5.8125 47.609375 11.28125 51.796875 \nQ 16.75 56 26.8125 56 \nQ 31.78125 56 36.171875 55.265625 \nQ 40.578125 54.546875 44.28125 53.078125 \nz\n\" id=\"DejaVuSans-115\"/>\n      <path d=\"M 18.3125 70.21875 \nL 18.3125 54.6875 \nL 36.8125 54.6875 \nL 36.8125 47.703125 \nL 18.3125 47.703125 \nL 18.3125 18.015625 \nQ 18.3125 11.328125 20.140625 9.421875 \nQ 21.96875 7.515625 27.59375 7.515625 \nL 36.8125 7.515625 \nL 36.8125 0 \nL 27.59375 0 \nQ 17.1875 0 13.234375 3.875 \nQ 9.28125 7.765625 9.28125 18.015625 \nL 9.28125 47.703125 \nL 2.6875 47.703125 \nL 2.6875 54.6875 \nL 9.28125 54.6875 \nL 9.28125 70.21875 \nz\n\" id=\"DejaVuSans-116\"/>\n      <path id=\"DejaVuSans-32\"/>\n     </defs>\n     <g transform=\"translate(92.667188 184.204062)scale(0.1 -0.1)\">\n      <use xlink:href=\"#DejaVuSans-70\"/>\n      <use x=\"50.269531\" xlink:href=\"#DejaVuSans-105\"/>\n      <use x=\"78.052734\" xlink:href=\"#DejaVuSans-114\"/>\n      <use x=\"119.166016\" xlink:href=\"#DejaVuSans-115\"/>\n      <use x=\"171.265625\" xlink:href=\"#DejaVuSans-116\"/>\n      <use x=\"210.474609\" xlink:href=\"#DejaVuSans-32\"/>\n      <use x=\"242.261719\" xlink:href=\"#DejaVuSans-53\"/>\n     </g>\n    </g>\n    <g id=\"line2d_17\">\n     <path d=\"M 64.667188 195.382187 \nL 84.667188 195.382187 \n\" style=\"fill:none;stroke:#ff7f0e;stroke-linecap:square;stroke-width:1.5;\"/>\n    </g>\n    <g id=\"line2d_18\"/>\n    <g id=\"text_15\">\n     <!-- First 10 -->\n     <g transform=\"translate(92.667188 198.882187)scale(0.1 -0.1)\">\n      <use xlink:href=\"#DejaVuSans-70\"/>\n      <use x=\"50.269531\" xlink:href=\"#DejaVuSans-105\"/>\n      <use x=\"78.052734\" xlink:href=\"#DejaVuSans-114\"/>\n      <use x=\"119.166016\" xlink:href=\"#DejaVuSans-115\"/>\n      <use x=\"171.265625\" xlink:href=\"#DejaVuSans-116\"/>\n      <use x=\"210.474609\" xlink:href=\"#DejaVuSans-32\"/>\n      <use x=\"242.261719\" xlink:href=\"#DejaVuSans-49\"/>\n      <use x=\"305.884766\" xlink:href=\"#DejaVuSans-48\"/>\n     </g>\n    </g>\n    <g id=\"line2d_19\">\n     <path d=\"M 64.667188 210.060312 \nL 84.667188 210.060312 \n\" style=\"fill:none;stroke:#2ca02c;stroke-linecap:square;stroke-width:1.5;\"/>\n    </g>\n    <g id=\"line2d_20\"/>\n    <g id=\"text_16\">\n     <!-- First 15 -->\n     <g transform=\"translate(92.667188 213.560312)scale(0.1 -0.1)\">\n      <use xlink:href=\"#DejaVuSans-70\"/>\n      <use x=\"50.269531\" xlink:href=\"#DejaVuSans-105\"/>\n      <use x=\"78.052734\" xlink:href=\"#DejaVuSans-114\"/>\n      <use x=\"119.166016\" xlink:href=\"#DejaVuSans-115\"/>\n      <use x=\"171.265625\" xlink:href=\"#DejaVuSans-116\"/>\n      <use x=\"210.474609\" xlink:href=\"#DejaVuSans-32\"/>\n      <use x=\"242.261719\" xlink:href=\"#DejaVuSans-49\"/>\n      <use x=\"305.884766\" xlink:href=\"#DejaVuSans-53\"/>\n     </g>\n    </g>\n   </g>\n  </g>\n </g>\n <defs>\n  <clipPath id=\"pf42b1e531e\">\n   <rect height=\"217.44\" width=\"334.8\" x=\"55.667188\" y=\"7.2\"/>\n  </clipPath>\n </defs>\n</svg>\n"
          },
          "metadata": {
            "needs_background": "light"
          }
        }
      ]
    },
    {
      "cell_type": "code",
      "metadata": {
        "colab": {
          "base_uri": "https://localhost:8080/"
        },
        "id": "rcBNCDuB5mKL",
        "outputId": "90ddeae0-693a-4901-f4d2-f987ea0df34e"
      },
      "source": [
        "print('Proportion of healthy people in population given first 5 data points =', w[np.argmax(log_likelihood(w, .1, 12, M[:5]))])\n",
        "print('Proportion of healthy people in population given first 10 data points =', w[np.argmax(log_likelihood(w, .1, 12, M[:10]))])\n",
        "print('Proportion of healthy people in population given first 15 data points =', w[np.argmax(log_likelihood(w, .1, 12, M[:15]))])"
      ],
      "execution_count": 7,
      "outputs": [
        {
          "output_type": "stream",
          "name": "stdout",
          "text": [
            "Proportion of healthy people in population given first 5 data points = 0.7959183673469387\n",
            "Proportion of healthy people in population given first 10 data points = 0.4897959183673469\n",
            "Proportion of healthy people in population given first 15 data points = 0.673469387755102\n"
          ]
        }
      ]
    }
  ]
}