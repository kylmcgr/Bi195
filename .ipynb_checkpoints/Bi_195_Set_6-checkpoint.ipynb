{
 "cells": [
  {
   "cell_type": "markdown",
   "metadata": {
    "id": "uW1vHthwQnQs"
   },
   "source": [
    "#Problem 1\n",
    "###(A)\n",
    "$L*e_x=\\begin{bmatrix}0 & -1\\\\1 & 0\\end{bmatrix}\\begin{bmatrix}1 \\\\0\\end{bmatrix}=\\begin{bmatrix}0 \\\\1\\end{bmatrix}$\n",
    "\n",
    "\n",
    "$L*e_y=\\begin{bmatrix}0 & -1\\\\1 & 0\\end{bmatrix}\\begin{bmatrix}0 \\\\1\\end{bmatrix}=\\begin{bmatrix}-1 \\\\0\\end{bmatrix}$\n",
    "###(B)\n",
    "$L*\\begin{bmatrix}x \\\\y\\end{bmatrix}=\\begin{bmatrix}0 & -1\\\\1 & 0\\end{bmatrix}\\begin{bmatrix}x \\\\y\\end{bmatrix}=\\begin{bmatrix}-y \\\\x\\end{bmatrix}$\n",
    "\n",
    "Qualitatively, L makes y negative and flips the vector.\n",
    "###(C)\n",
    "$L^2*\\begin{bmatrix}x \\\\y\\end{bmatrix}=\\begin{bmatrix}0 & -1\\\\1 & 0\\end{bmatrix}\\begin{bmatrix}0 & -1\\\\1 & 0\\end{bmatrix}\\begin{bmatrix}x \\\\y\\end{bmatrix}=\\begin{bmatrix}0 & -1\\\\1 & 0\\end{bmatrix}\\begin{bmatrix}-y \\\\x\\end{bmatrix}=\\begin{bmatrix}-x \\\\-y\\end{bmatrix}$\n",
    "\n",
    "By applying L twice, we essentially just make the vector the negative of its original value.\n",
    "\n",
    "$det(L)=det(\\begin{bmatrix}0 & -1\\\\1 & 0\\end{bmatrix})=1$\n",
    "\n",
    "$det(L^2)=det(\\begin{bmatrix}0 & -1\\\\1 & 0\\end{bmatrix}\\begin{bmatrix}0 & -1\\\\1 & 0\\end{bmatrix})=det(\\begin{bmatrix}-1 & 0\\\\0 & -1\\end{bmatrix})=1$\n",
    "#Problem 2\n",
    "###(A)\n",
    "$L=\\begin{bmatrix}0 & 1\\\\1 & 0\\\\1 & 1\\end{bmatrix}$\n",
    "\n",
    "$y_1=x_2,\\ y_2=x_1,\\ y_3=x_1+x_2$\n",
    "###(B)\n",
    "$dim(range(L))=3$"
   ]
  },
  {
   "cell_type": "code",
   "execution_count": 2,
   "metadata": {
    "colab": {
     "base_uri": "https://localhost:8080/",
     "height": 593
    },
    "id": "mDXzAFz6F9A1",
    "outputId": "5cde700e-d9cc-41da-b69b-e0c5250833ee"
   },
   "outputs": [
    {
     "ename": "ModuleNotFoundError",
     "evalue": "No module named 'plotly'",
     "output_type": "error",
     "traceback": [
      "\u001b[1;31m---------------------------------------------------------------------------\u001b[0m",
      "\u001b[1;31mModuleNotFoundError\u001b[0m                       Traceback (most recent call last)",
      "\u001b[1;32m<ipython-input-2-1be747ffe1ed>\u001b[0m in \u001b[0;36m<module>\u001b[1;34m\u001b[0m\n\u001b[0;32m      5\u001b[0m \u001b[1;31m#from mpl_toolkits import mplot3d\u001b[0m\u001b[1;33m\u001b[0m\u001b[1;33m\u001b[0m\u001b[1;33m\u001b[0m\u001b[0m\n\u001b[0;32m      6\u001b[0m \u001b[1;31m#from itertools import starmap\u001b[0m\u001b[1;33m\u001b[0m\u001b[1;33m\u001b[0m\u001b[1;33m\u001b[0m\u001b[0m\n\u001b[1;32m----> 7\u001b[1;33m \u001b[1;32mimport\u001b[0m \u001b[0mplotly\u001b[0m\u001b[1;33m.\u001b[0m\u001b[0mexpress\u001b[0m \u001b[1;32mas\u001b[0m \u001b[0mpx\u001b[0m\u001b[1;33m\u001b[0m\u001b[1;33m\u001b[0m\u001b[0m\n\u001b[0m\u001b[0;32m      8\u001b[0m \u001b[1;31m#import pandas as pd\u001b[0m\u001b[1;33m\u001b[0m\u001b[1;33m\u001b[0m\u001b[1;33m\u001b[0m\u001b[0m\n\u001b[0;32m      9\u001b[0m \u001b[1;32mimport\u001b[0m \u001b[0mplotly\u001b[0m\u001b[1;33m.\u001b[0m\u001b[0mgraph_objects\u001b[0m \u001b[1;32mas\u001b[0m \u001b[0mgo\u001b[0m\u001b[1;33m\u001b[0m\u001b[1;33m\u001b[0m\u001b[0m\n",
      "\u001b[1;31mModuleNotFoundError\u001b[0m: No module named 'plotly'"
     ]
    }
   ],
   "source": [
    "import numpy as np\n",
    "import matplotlib.pyplot as plt\n",
    "from numpy.linalg import inv\n",
    "#from operator import itemgetter\n",
    "#from mpl_toolkits import mplot3d\n",
    "#from itertools import starmap\n",
    "import plotly.express as px\n",
    "#import pandas as pd \n",
    "import plotly.graph_objects as go\n",
    "import itertools\n",
    "L = np.array([[0,1],[1,0],[1,1]])\n",
    "print(L)\n",
    "data = np.zeros((800,2)); \n",
    "Ldata = np.zeros((800,3)); \n",
    "for i in range(800):\n",
    "    \n",
    "  data[i,:] = (np.random.rand(1,2));\n",
    "  Ldata[i,:] = np.dot(L,data[i,:]);\n",
    "fig=go.Figure(data=[go.Scatter3d(x=Ldata[:,0], y=Ldata[:,1], z=Ldata[:,2],\n",
    "                                   mode='markers')])\n",
    "fig.show()"
   ]
  },
  {
   "cell_type": "markdown",
   "metadata": {
    "id": "C14A_TDmK9m6"
   },
   "source": [
    "#Problem 3\n",
    "###(A)\n",
    "D = $\\begin{bmatrix}0 & 1 & 0 & 0\\\\0 & 0 & 2 & 0\\\\0 & 0 & 0 & 3\\end{bmatrix}$\n",
    "###(B)\n",
    "The dimension of ker(D) is 1 because only contant polynomials have a zero derivative.\n",
    "\n",
    "Basis of ker(D) is = $\\begin{bmatrix}1 \\\\ 0 \\\\ 0\\end{bmatrix}$\n",
    "###(C)\n",
    "The dimension of ker(D^2) is 2 because contant and first order polynomials have a zero derivative.\n",
    "\n",
    "Basis of ker(D^2) is = $\\{\\begin{bmatrix}1 \\\\ 0 \\\\ 0\\end{bmatrix},\\ \\begin{bmatrix}0 \\\\ 1 \\\\ 0\\end{bmatrix}\\}$\n",
    "###(D)\n",
    "To show that ker(T) is a closed subspace, we have to show it is closed under addition, show it is closed under scalar multiplication, and show that the vector 0 is in the subset.\n",
    "\n",
    "Given $u,\\ v\\in ker(T),\\ T(u) = 0,\\ T(v) = 0,\\textrm{ and some scalar }a$:\n",
    "\n",
    "$T(v + u) = T(v) + T(u) = 0\\\\\n",
    "T(a*v) = a * T(u) = 0\\\\\n",
    "T(0)=T(v−v)=T(v)+T(−v)=T(v)−T(v)=0$\n",
    "\n",
    "#Problem 4\n",
    "Using the typer writer that has two letters of uncertainty, A-> A, A-> B, B-> B, B->C, C-> C, C-> D, D-> D, D-> A where each arrow has .5 probability. \n",
    "###(A)\n",
    "W = $\\begin{bmatrix}0.5 & 0 & 0 & 0.5\\\\0.5 & 0.5 & 0 & 0\\\\0 & 0.5 & 0.5 & 0\\\\0 & 0 & 0.5 & 0.5\\end{bmatrix}$\n",
    "###(B)\n",
    "$y=Wx=\\begin{bmatrix}0.5 & 0 & 0 & 0.5\\\\0.5 & 0.5 & 0 & 0\\\\0 & 0.5 & 0.5 & 0\\\\0 & 0 & 0.5 & 0.5\\end{bmatrix}\\begin{bmatrix}P(A) \\\\ P(B) \\\\ P(C) \\\\ P(D)\\end{bmatrix}=\\begin{bmatrix}0.5*P(A)+0.5*P(D) \\\\ 0.5*P(B)+0.5*P(A) \\\\ 0.5*P(C)+0.5*P(B) \\\\ 0.5*P(D)+0.5*P(C)\\end{bmatrix}$\n",
    "###(C)\n",
    "The probability of each getting each element of y is just the probability of the two letters that could output that letter multiplied by the probability that each of the input letters give that letter.\n",
    "###(D)\n",
    "$W^2x=Wy=\\begin{bmatrix}0.5 & 0 & 0 & 0.5\\\\0.5 & 0.5 & 0 & 0\\\\0 & 0.5 & 0.5 & 0\\\\0 & 0 & 0.5 & 0.5\\end{bmatrix}\\begin{bmatrix}0.5*P(A)+0.5*P(D) \\\\ 0.5*P(B)+0.5*P(A) \\\\ 0.5*P(C)+0.5*P(B) \\\\ 0.5*P(D)+0.5*P(C)\\end{bmatrix}=\\begin{bmatrix}0.25*P(A)+0.5*P(D)+0.25*P(C) \\\\ 0.25*P(B)+0.5*P(A)+0.25*P(D) \\\\ 0.25*P(C)+0.5*P(B)+0.25*P(A) \\\\ 0.25*P(D)+0.5*P(C)+0.25*P(B)\\end{bmatrix}$\n",
    "\n",
    "This map represents two sequential noisy type-writers that make the input more noisy each time. For $W^n$ as n get big enough, the input gets noisy enough that the outputs are all equally likely, so for a single entry $x = (1, 0, 0, 0)$, we would get probabilities around $(0.25, 0.25, 0.25, 0.25)$.\n",
    "\n",
    "#Problem 5\n",
    "###(A)\n",
    "$T=\\begin{bmatrix}1 & 1 & 0\\\\-1 & 0 & 2\\end{bmatrix}$\n",
    "###(B)\n",
    "The dimension of ker(T) is 1 because $x_2$ must be negative $x_1$ and $x_3$ must be half $x_1$.\n",
    "###(C)\n",
    "Basis of ker(T) is = $\\{\\begin{bmatrix}2 \\\\ -2 \\\\ 1\\end{bmatrix}\\}$\n",
    "\n",
    "#Problem 6\n",
    "###(A)\n",
    "$w=\\begin{bmatrix}0.25 & 0.25\\end{bmatrix}$\n",
    "###(B)\n",
    "$v_1w_1$ must be more than 0.5 to for the $\\begin{bmatrix}1 \\\\ 0\\end{bmatrix}$  input to be 1 and $v_2w_2$ must be more than 0.5 to for the $\\begin{bmatrix}0 \\\\ 1\\end{bmatrix}$ input to be 1. Since we these add for the $\\begin{bmatrix}1 \\\\ 1\\end{bmatrix}$ input, there is no way for this input to be 0 so XOR is impossible.\n"
   ]
  }
 ],
 "metadata": {
  "colab": {
   "collapsed_sections": [],
   "name": "Bi_195_Set_6.ipynb",
   "provenance": []
  },
  "kernelspec": {
   "display_name": "Python 3",
   "language": "python",
   "name": "python3"
  },
  "language_info": {
   "codemirror_mode": {
    "name": "ipython",
    "version": 3
   },
   "file_extension": ".py",
   "mimetype": "text/x-python",
   "name": "python",
   "nbconvert_exporter": "python",
   "pygments_lexer": "ipython3",
   "version": "3.9.5"
  }
 },
 "nbformat": 4,
 "nbformat_minor": 1
}
